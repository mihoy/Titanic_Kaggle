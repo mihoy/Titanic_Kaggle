{
 "cells": [
  {
   "cell_type": "code",
   "execution_count": 31,
   "metadata": {
    "collapsed": true
   },
   "outputs": [],
   "source": [
    "# -*- coding: utf-8 -*-\n",
    "\n",
    "# data analysis and wrangling\n",
    "import pandas as pd\n",
    "import numpy as np\n",
    "import random as rnd"
   ]
  },
  {
   "cell_type": "code",
   "execution_count": 32,
   "metadata": {
    "collapsed": false
   },
   "outputs": [],
   "source": [
    "# machine learning\n",
    "from sklearn.ensemble import RandomForestClassifier\n",
    "\n",
    "# machine learning tools\n",
    "from sklearn.model_selection import train_test_split, KFold, GridSearchCV, RandomizedSearchCV\n",
    "from sklearn.metrics import accuracy_score, classification_report,confusion_matrix,recall_score,precision_score,f1_score, roc_curve\n",
    "#from sklearn import grid_search\n",
    "#from sklearn.grid_search import GridSearchCV"
   ]
  },
  {
   "cell_type": "code",
   "execution_count": 33,
   "metadata": {
    "collapsed": false
   },
   "outputs": [
    {
     "data": {
      "text/html": [
       "<div>\n",
       "<table border=\"1\" class=\"dataframe\">\n",
       "  <thead>\n",
       "    <tr style=\"text-align: right;\">\n",
       "      <th></th>\n",
       "      <th>PassengerId</th>\n",
       "      <th>Survived</th>\n",
       "      <th>Pclass</th>\n",
       "      <th>Name</th>\n",
       "      <th>Sex</th>\n",
       "      <th>Age</th>\n",
       "      <th>SibSp</th>\n",
       "      <th>Parch</th>\n",
       "      <th>Ticket</th>\n",
       "      <th>Fare</th>\n",
       "      <th>Cabin</th>\n",
       "      <th>Embarked</th>\n",
       "    </tr>\n",
       "  </thead>\n",
       "  <tbody>\n",
       "    <tr>\n",
       "      <th>0</th>\n",
       "      <td>1</td>\n",
       "      <td>0</td>\n",
       "      <td>3</td>\n",
       "      <td>Braund, Mr. Owen Harris</td>\n",
       "      <td>male</td>\n",
       "      <td>22.0</td>\n",
       "      <td>1</td>\n",
       "      <td>0</td>\n",
       "      <td>A/5 21171</td>\n",
       "      <td>7.2500</td>\n",
       "      <td>NaN</td>\n",
       "      <td>S</td>\n",
       "    </tr>\n",
       "    <tr>\n",
       "      <th>1</th>\n",
       "      <td>2</td>\n",
       "      <td>1</td>\n",
       "      <td>1</td>\n",
       "      <td>Cumings, Mrs. John Bradley (Florence Briggs Th...</td>\n",
       "      <td>female</td>\n",
       "      <td>38.0</td>\n",
       "      <td>1</td>\n",
       "      <td>0</td>\n",
       "      <td>PC 17599</td>\n",
       "      <td>71.2833</td>\n",
       "      <td>C85</td>\n",
       "      <td>C</td>\n",
       "    </tr>\n",
       "    <tr>\n",
       "      <th>2</th>\n",
       "      <td>3</td>\n",
       "      <td>1</td>\n",
       "      <td>3</td>\n",
       "      <td>Heikkinen, Miss. Laina</td>\n",
       "      <td>female</td>\n",
       "      <td>26.0</td>\n",
       "      <td>0</td>\n",
       "      <td>0</td>\n",
       "      <td>STON/O2. 3101282</td>\n",
       "      <td>7.9250</td>\n",
       "      <td>NaN</td>\n",
       "      <td>S</td>\n",
       "    </tr>\n",
       "  </tbody>\n",
       "</table>\n",
       "</div>"
      ],
      "text/plain": [
       "   PassengerId  Survived  Pclass  \\\n",
       "0            1         0       3   \n",
       "1            2         1       1   \n",
       "2            3         1       3   \n",
       "\n",
       "                                                Name     Sex   Age  SibSp  \\\n",
       "0                            Braund, Mr. Owen Harris    male  22.0      1   \n",
       "1  Cumings, Mrs. John Bradley (Florence Briggs Th...  female  38.0      1   \n",
       "2                             Heikkinen, Miss. Laina  female  26.0      0   \n",
       "\n",
       "   Parch            Ticket     Fare Cabin Embarked  \n",
       "0      0         A/5 21171   7.2500   NaN        S  \n",
       "1      0          PC 17599  71.2833   C85        C  \n",
       "2      0  STON/O2. 3101282   7.9250   NaN        S  "
      ]
     },
     "execution_count": 33,
     "metadata": {},
     "output_type": "execute_result"
    }
   ],
   "source": [
    "train = pd.read_csv('input/train.csv')\n",
    "test = pd.read_csv('input/test.csv')\n",
    "train.head(3)"
   ]
  },
  {
   "cell_type": "code",
   "execution_count": 34,
   "metadata": {
    "collapsed": false
   },
   "outputs": [
    {
     "name": "stdout",
     "output_type": "stream",
     "text": [
      "<class 'pandas.core.frame.DataFrame'>\n",
      "RangeIndex: 891 entries, 0 to 890\n",
      "Data columns (total 12 columns):\n",
      "PassengerId    891 non-null int64\n",
      "Survived       891 non-null int64\n",
      "Pclass         891 non-null int64\n",
      "Name           891 non-null object\n",
      "Sex            891 non-null object\n",
      "Age            714 non-null float64\n",
      "SibSp          891 non-null int64\n",
      "Parch          891 non-null int64\n",
      "Ticket         891 non-null object\n",
      "Fare           891 non-null float64\n",
      "Cabin          204 non-null object\n",
      "Embarked       889 non-null object\n",
      "dtypes: float64(2), int64(5), object(5)\n",
      "memory usage: 83.6+ KB\n",
      "<class 'pandas.core.frame.DataFrame'>\n",
      "RangeIndex: 418 entries, 0 to 417\n",
      "Data columns (total 11 columns):\n",
      "PassengerId    418 non-null int64\n",
      "Pclass         418 non-null int64\n",
      "Name           418 non-null object\n",
      "Sex            418 non-null object\n",
      "Age            332 non-null float64\n",
      "SibSp          418 non-null int64\n",
      "Parch          418 non-null int64\n",
      "Ticket         418 non-null object\n",
      "Fare           417 non-null float64\n",
      "Cabin          91 non-null object\n",
      "Embarked       418 non-null object\n",
      "dtypes: float64(2), int64(4), object(5)\n",
      "memory usage: 36.0+ KB\n"
     ]
    }
   ],
   "source": [
    "train.info()\n",
    "test.info()"
   ]
  },
  {
   "cell_type": "code",
   "execution_count": 35,
   "metadata": {
    "collapsed": false
   },
   "outputs": [],
   "source": [
    "#combine is a list of dataset train and test. This will help cleansing all data\n",
    "combine = [train, test]\n",
    "#keep test PassengerID for the submission\n",
    "p_id = test['PassengerId']"
   ]
  },
  {
   "cell_type": "code",
   "execution_count": 36,
   "metadata": {
    "collapsed": false
   },
   "outputs": [
    {
     "name": "stdout",
     "output_type": "stream",
     "text": [
      "male      577\n",
      "female    314\n",
      "Name: Sex, dtype: int64\n",
      "male      266\n",
      "female    152\n",
      "Name: Sex, dtype: int64\n"
     ]
    }
   ],
   "source": [
    "#Change odject to numbers\n",
    "print(train['Sex'].value_counts(dropna=False))\n",
    "print(test['Sex'].value_counts(dropna=False))"
   ]
  },
  {
   "cell_type": "code",
   "execution_count": 37,
   "metadata": {
    "collapsed": true
   },
   "outputs": [],
   "source": [
    "for dataset in combine:\n",
    "    dataset['Sex'] = dataset['Sex'].map({'female':1, 'male': 0}).astype(int)\n",
    "\n",
    "# for dataset in combine:\n",
    "#     dataset['Sex'] = dataset['Sex'].map( {'female': 1, 'male': 0} ).astype(int)"
   ]
  },
  {
   "cell_type": "code",
   "execution_count": 38,
   "metadata": {
    "collapsed": false
   },
   "outputs": [
    {
     "data": {
      "text/plain": [
       "0    577\n",
       "1    314\n",
       "Name: Sex, dtype: int64"
      ]
     },
     "execution_count": 38,
     "metadata": {},
     "output_type": "execute_result"
    }
   ],
   "source": [
    "train['Sex'].value_counts(dropna=False)"
   ]
  },
  {
   "cell_type": "code",
   "execution_count": 39,
   "metadata": {
    "collapsed": false
   },
   "outputs": [
    {
     "name": "stdout",
     "output_type": "stream",
     "text": [
      "S      644\n",
      "C      168\n",
      "Q       77\n",
      "NaN      2\n",
      "Name: Embarked, dtype: int64\n",
      "S    270\n",
      "C    102\n",
      "Q     46\n",
      "Name: Embarked, dtype: int64\n"
     ]
    }
   ],
   "source": [
    "print(train['Embarked'].value_counts(dropna=False))\n",
    "print(test['Embarked'].value_counts(dropna=False))"
   ]
  },
  {
   "cell_type": "code",
   "execution_count": 40,
   "metadata": {
    "collapsed": false
   },
   "outputs": [
    {
     "data": {
      "text/plain": [
       "0    646\n",
       "1    168\n",
       "2     77\n",
       "Name: Embarked, dtype: int64"
      ]
     },
     "execution_count": 40,
     "metadata": {},
     "output_type": "execute_result"
    }
   ],
   "source": [
    "for dataset in combine:\n",
    "    dataset['Embarked'] = dataset['Embarked'].fillna('S')\n",
    "    dataset['Embarked'] = dataset['Embarked'].map({'S':0, 'C':1, 'Q':2}).astype(int)\n",
    "\n",
    "train['Embarked'].value_counts(dropna=False)"
   ]
  },
  {
   "cell_type": "code",
   "execution_count": 41,
   "metadata": {
    "collapsed": false
   },
   "outputs": [
    {
     "name": "stdout",
     "output_type": "stream",
     "text": [
      "count    714.000000\n",
      "mean      29.699118\n",
      "std       14.526497\n",
      "min        0.420000\n",
      "25%       20.125000\n",
      "50%       28.000000\n",
      "75%       38.000000\n",
      "max       80.000000\n",
      "Name: Age, dtype: float64\n",
      "count    332.000000\n",
      "mean      30.272590\n",
      "std       14.181209\n",
      "min        0.170000\n",
      "25%       21.000000\n",
      "50%       27.000000\n",
      "75%       39.000000\n",
      "max       76.000000\n",
      "Name: Age, dtype: float64\n"
     ]
    }
   ],
   "source": [
    "#filling out the missing data points\n",
    "print(train['Age'].describe())\n",
    "print(test['Age'].describe())"
   ]
  },
  {
   "cell_type": "code",
   "execution_count": 42,
   "metadata": {
    "collapsed": true
   },
   "outputs": [],
   "source": [
    "for dataset in combine:\n",
    "    dataset['Age'].fillna(train.Age.mean(), inplace=True)"
   ]
  },
  {
   "cell_type": "code",
   "execution_count": 43,
   "metadata": {
    "collapsed": true
   },
   "outputs": [],
   "source": [
    "#Work on Name\n",
    "for dataset in combine:\n",
    "    dataset['Title'] = dataset.Name.str.extract(' ([A-Za-z]+)\\.', expand=False)"
   ]
  },
  {
   "cell_type": "code",
   "execution_count": 44,
   "metadata": {
    "collapsed": false
   },
   "outputs": [
    {
     "name": "stdout",
     "output_type": "stream",
     "text": [
      "Mr          517\n",
      "Miss        182\n",
      "Mrs         125\n",
      "Master       40\n",
      "Dr            7\n",
      "Rev           6\n",
      "Major         2\n",
      "Mlle          2\n",
      "Col           2\n",
      "Capt          1\n",
      "Mme           1\n",
      "Don           1\n",
      "Lady          1\n",
      "Countess      1\n",
      "Ms            1\n",
      "Jonkheer      1\n",
      "Sir           1\n",
      "Name: Title, dtype: int64\n",
      "Mr        240\n",
      "Miss       78\n",
      "Mrs        72\n",
      "Master     21\n",
      "Rev         2\n",
      "Col         2\n",
      "Dr          1\n",
      "Ms          1\n",
      "Dona        1\n",
      "Name: Title, dtype: int64\n"
     ]
    }
   ],
   "source": [
    "print(train['Title'].value_counts(dropna=False))\n",
    "print(test['Title'].value_counts(dropna=False))"
   ]
  },
  {
   "cell_type": "code",
   "execution_count": 45,
   "metadata": {
    "collapsed": false
   },
   "outputs": [
    {
     "data": {
      "text/plain": [
       "1    517\n",
       "2    185\n",
       "3    126\n",
       "4     40\n",
       "5     23\n",
       "Name: Title, dtype: int64"
      ]
     },
     "execution_count": 45,
     "metadata": {},
     "output_type": "execute_result"
    }
   ],
   "source": [
    "for dataset in combine:\n",
    "    dataset['Title'] = dataset['Title'].replace(['Lady', 'Countess','Capt', 'Col',\\\n",
    " \t'Don', 'Dr', 'Major', 'Rev', 'Sir', 'Jonkheer', 'Dona'], 'Rare')\n",
    "    dataset['Title'] = dataset['Title'].replace('Mlle', 'Miss')\n",
    "    dataset['Title'] = dataset['Title'].replace('Ms', 'Miss')\n",
    "    dataset['Title'] = dataset['Title'].replace('Mme', 'Mrs')\n",
    "    \n",
    "for dataset in combine:\n",
    "    dataset['Title'] = dataset['Title'].map({\"Mr\": 1, \"Miss\": 2, \"Mrs\": 3, \"Master\": 4, \"Rare\": 5})\n",
    "    dataset['Title'] = dataset['Title'].fillna(0)\n",
    "\n",
    "train['Title'].value_counts(dropna=False)  "
   ]
  },
  {
   "cell_type": "code",
   "execution_count": 46,
   "metadata": {
    "collapsed": false
   },
   "outputs": [
    {
     "name": "stdout",
     "output_type": "stream",
     "text": [
      "3    301\n",
      "2    183\n",
      "1    146\n",
      "P     65\n",
      "S     65\n",
      "C     47\n",
      "A     29\n",
      "W     13\n",
      "4     10\n",
      "7      9\n",
      "F      7\n",
      "6      6\n",
      "L      4\n",
      "5      3\n",
      "8      2\n",
      "9      1\n",
      "Name: ticket_str0, dtype: int64\n",
      "3    128\n",
      "2     95\n",
      "1     64\n",
      "P     33\n",
      "S     33\n",
      "C     30\n",
      "A     13\n",
      "F      6\n",
      "W      6\n",
      "7      4\n",
      "6      3\n",
      "L      1\n",
      "4      1\n",
      "9      1\n",
      "Name: ticket_str0, dtype: int64\n"
     ]
    }
   ],
   "source": [
    "for dataset in combine:\n",
    "    dataset['ticket_str0'] = dataset['Ticket'].str[0]\n",
    "\n",
    "print(train['ticket_str0'].value_counts(dropna=False))\n",
    "print(test['ticket_str0'].value_counts(dropna=False))"
   ]
  },
  {
   "cell_type": "code",
   "execution_count": 47,
   "metadata": {
    "collapsed": false
   },
   "outputs": [
    {
     "name": "stdout",
     "output_type": "stream",
     "text": [
      "  ticket_str0  Survived\n",
      "6           P  0.646154\n",
      "1           1  0.630137\n",
      "2           2  0.464481\n",
      "5           C  0.340426\n",
      "7           S  0.323077\n",
      "3           3  0.239203\n",
      "0           0  0.218182\n",
      "4           A  0.068966\n",
      "  ticket_str0  Survived\n",
      "3           3       301\n",
      "2           2       183\n",
      "1           1       146\n",
      "6           P        65\n",
      "7           S        65\n",
      "0           0        55\n",
      "5           C        47\n",
      "4           A        29\n"
     ]
    }
   ],
   "source": [
    "for dataset in combine:\n",
    "    dataset['ticket_str0'] = np.where(dataset['ticket_str0'].isin(['1','2','3','P','S','C','A']),dataset['ticket_str0'], 0)\n",
    "\n",
    "a = train[['ticket_str0', 'Survived']].groupby(['ticket_str0'], as_index=False).mean().sort_values(by='Survived', ascending=False)\n",
    "b = train[['ticket_str0', 'Survived']].groupby(['ticket_str0'], as_index=False).count().sort_values(by='Survived', ascending=False)\n",
    "\n",
    "print(a)\n",
    "print(b)"
   ]
  },
  {
   "cell_type": "code",
   "execution_count": 48,
   "metadata": {
    "collapsed": false
   },
   "outputs": [
    {
     "name": "stdout",
     "output_type": "stream",
     "text": [
      "3    413\n",
      "1    211\n",
      "2    183\n",
      "0     84\n",
      "Name: ticket_str0, dtype: int64\n"
     ]
    }
   ],
   "source": [
    "for dataset in combine:\n",
    "    dataset['ticket_str0'].replace({'1':1,'2':2,'3':3,'0':0, 'P':1, 'C':3, 'S':3, 'A':0}, inplace = True)\n",
    "\n",
    "print(train['ticket_str0'].value_counts(dropna=False))"
   ]
  },
  {
   "cell_type": "code",
   "execution_count": 49,
   "metadata": {
    "collapsed": false
   },
   "outputs": [
    {
     "name": "stdout",
     "output_type": "stream",
     "text": [
      "   ticket_str0  Survived\n",
      "1            1  0.635071\n",
      "2            2  0.464481\n",
      "3            3  0.263923\n",
      "0            0  0.166667\n"
     ]
    }
   ],
   "source": [
    "c = train[['ticket_str0', 'Survived']].groupby(['ticket_str0'], as_index=False).mean().sort_values(by='Survived', ascending=False)\n",
    "print(c)"
   ]
  },
  {
   "cell_type": "code",
   "execution_count": 50,
   "metadata": {
    "collapsed": false
   },
   "outputs": [
    {
     "name": "stdout",
     "output_type": "stream",
     "text": [
      "NaN            687\n",
      "B96 B98          4\n",
      "C23 C25 C27      4\n",
      "G6               4\n",
      "F2               3\n",
      "D                3\n",
      "E101             3\n",
      "F33              3\n",
      "C22 C26          3\n",
      "B49              2\n",
      "B77              2\n",
      "B58 B60          2\n",
      "C125             2\n",
      "D36              2\n",
      "E33              2\n",
      "D26              2\n",
      "C92              2\n",
      "E8               2\n",
      "D17              2\n",
      "C126             2\n",
      "F G73            2\n",
      "C124             2\n",
      "B35              2\n",
      "C2               2\n",
      "D35              2\n",
      "C83              2\n",
      "F4               2\n",
      "E67              2\n",
      "C52              2\n",
      "C78              2\n",
      "              ... \n",
      "C110             1\n",
      "D47              1\n",
      "C82              1\n",
      "C30              1\n",
      "B30              1\n",
      "C54              1\n",
      "D10 D12          1\n",
      "A31              1\n",
      "B39              1\n",
      "B3               1\n",
      "C49              1\n",
      "B41              1\n",
      "A19              1\n",
      "B73              1\n",
      "C118             1\n",
      "D7               1\n",
      "B19              1\n",
      "E58              1\n",
      "B4               1\n",
      "D21              1\n",
      "E49              1\n",
      "A6               1\n",
      "C85              1\n",
      "B102             1\n",
      "E17              1\n",
      "B78              1\n",
      "A20              1\n",
      "A36              1\n",
      "F E69            1\n",
      "D28              1\n",
      "Name: Cabin, dtype: int64\n",
      "NaN                327\n",
      "B57 B59 B63 B66      3\n",
      "C101                 2\n",
      "A34                  2\n",
      "E34                  2\n",
      "C80                  2\n",
      "C116                 2\n",
      "F4                   2\n",
      "C89                  2\n",
      "C78                  2\n",
      "B45                  2\n",
      "C55 C57              2\n",
      "C23 C25 C27          2\n",
      "C31                  2\n",
      "C6                   2\n",
      "D15                  1\n",
      "E52                  1\n",
      "C28                  1\n",
      "F E57                1\n",
      "B41                  1\n",
      "A29                  1\n",
      "C54                  1\n",
      "B11                  1\n",
      "F33                  1\n",
      "B78                  1\n",
      "C46                  1\n",
      "D38                  1\n",
      "E39 E41              1\n",
      "C85                  1\n",
      "B24                  1\n",
      "                  ... \n",
      "D37                  1\n",
      "F E46                1\n",
      "A11                  1\n",
      "C97                  1\n",
      "B61                  1\n",
      "G6                   1\n",
      "A18                  1\n",
      "C86                  1\n",
      "C32                  1\n",
      "B10                  1\n",
      "B71                  1\n",
      "C39                  1\n",
      "D43                  1\n",
      "F G63                1\n",
      "E60                  1\n",
      "E46                  1\n",
      "A21                  1\n",
      "C106                 1\n",
      "C51                  1\n",
      "B36                  1\n",
      "B51 B53 B55          1\n",
      "C22 C26              1\n",
      "D19                  1\n",
      "D28                  1\n",
      "C62 C64              1\n",
      "D34                  1\n",
      "D40                  1\n",
      "C53                  1\n",
      "D10 D12              1\n",
      "D                    1\n",
      "Name: Cabin, dtype: int64\n"
     ]
    }
   ],
   "source": [
    "#Cabin\n",
    "print(train['Cabin'].value_counts(dropna=False))\n",
    "print(test['Cabin'].value_counts(dropna=False))"
   ]
  },
  {
   "cell_type": "code",
   "execution_count": 51,
   "metadata": {
    "collapsed": false
   },
   "outputs": [
    {
     "name": "stdout",
     "output_type": "stream",
     "text": [
      "  cabin_str0  Survived\n",
      "3          D  0.757576\n",
      "4          E  0.750000\n",
      "1          B  0.744681\n",
      "5          F  0.615385\n",
      "2          C  0.593220\n",
      "6          G  0.500000\n",
      "0          A  0.466667\n",
      "7          T  0.000000\n",
      "  cabin_str0  Survived\n",
      "2          C        59\n",
      "1          B        47\n",
      "3          D        33\n",
      "4          E        32\n",
      "0          A        15\n",
      "5          F        13\n",
      "6          G         4\n",
      "7          T         1\n"
     ]
    }
   ],
   "source": [
    "for dataset in combine:\n",
    "    dataset['cabin_str0'] = dataset['Cabin'].str[0]\n",
    "    \n",
    "a = train[['cabin_str0', 'Survived']].groupby(['cabin_str0'], as_index=False).mean().sort_values(by='Survived', ascending=False)\n",
    "b = train[['cabin_str0', 'Survived']].groupby(['cabin_str0'], as_index=False).count().sort_values(by='Survived', ascending=False)\n",
    "\n",
    "print(a)\n",
    "print(b) "
   ]
  },
  {
   "cell_type": "code",
   "execution_count": 52,
   "metadata": {
    "collapsed": false
   },
   "outputs": [
    {
     "data": {
      "text/plain": [
       "0    692\n",
       "2    112\n",
       "1     87\n",
       "Name: cabin_str0, dtype: int64"
      ]
     },
     "execution_count": 52,
     "metadata": {},
     "output_type": "execute_result"
    }
   ],
   "source": [
    "for dataset in combine:\n",
    "    dataset['cabin_str0'] = np.where(dataset['cabin_str0'].isin(['A','B','C','D','E','F']), dataset['cabin_str0'], 0)\n",
    "    dataset['cabin_str0'].replace({'A':1, 'B':2, 'C':1, 'D':2, 'E':2, 'F':1, '0':0}, inplace = True)\n",
    "\n",
    "train['cabin_str0'].value_counts(dropna=False)"
   ]
  },
  {
   "cell_type": "code",
   "execution_count": 53,
   "metadata": {
    "collapsed": false
   },
   "outputs": [
    {
     "name": "stdout",
     "output_type": "stream",
     "text": [
      "   FamilySize  Survived\n",
      "3           4  0.724138\n",
      "2           3  0.578431\n",
      "1           2  0.552795\n",
      "6           7  0.333333\n",
      "0           1  0.303538\n",
      "4           5  0.200000\n",
      "5           6  0.136364\n",
      "7           8  0.000000\n",
      "8          11  0.000000\n"
     ]
    }
   ],
   "source": [
    "#family in the ship\n",
    "for dataset in combine:\n",
    "    dataset[\"FamilySize\"] = dataset[\"SibSp\"] + dataset[\"Parch\"] + 1\n",
    "    \n",
    "print(train[['FamilySize', 'Survived']].groupby(['FamilySize'], as_index=False).mean()\\\n",
    "      .sort_values(by='Survived', ascending=False))\n"
   ]
  },
  {
   "cell_type": "code",
   "execution_count": 54,
   "metadata": {
    "collapsed": true
   },
   "outputs": [],
   "source": [
    " for dataset in combine:\n",
    "    dataset[\"IsAlone\"]=0\n",
    "    dataset[\"IssmallFamily\"]=0\n",
    "    dataset[\"IslargeFamily\"]=0 \n",
    "    dataset.loc[dataset[\"FamilySize\"]==1,\"IsAlone\"]=1\n",
    "    dataset.loc[(dataset['FamilySize'] <= 4) & (dataset['FamilySize'] > 1),\"IssmallFamily\"]=1\n",
    "    dataset.loc[dataset[\"FamilySize\"]>4,\"IslargeFamily\"]=1"
   ]
  },
  {
   "cell_type": "code",
   "execution_count": 101,
   "metadata": {
    "collapsed": false
   },
   "outputs": [],
   "source": [
    "# # train = train.drop(['PassengerId','Name','Ticket', 'Cabin', 'FamilySize', 'SibSp','Parch'], axis=1)\n",
    "# # test = test.drop(['PassengerId','Name','Ticket', 'Cabin', 'FamilySize', 'SibSp','Parch'],  axis=1)\n",
    "train = train.drop(['PassengerId','Name','Ticket', 'Cabin'], axis=1)\n",
    "test = test.drop(['PassengerId','Name','Ticket', 'Cabin'],  axis=1)\n",
    "\n",
    "# print(train.info())\n",
    "# print(test.info())"
   ]
  },
  {
   "cell_type": "code",
   "execution_count": 55,
   "metadata": {
    "collapsed": false
   },
   "outputs": [],
   "source": [
    "test['Fare'].fillna(train.Fare.mean(), inplace=True)"
   ]
  },
  {
   "cell_type": "code",
   "execution_count": 56,
   "metadata": {
    "collapsed": true
   },
   "outputs": [],
   "source": [
    "combine = [train, test]"
   ]
  },
  {
   "cell_type": "markdown",
   "metadata": {},
   "source": [
    "# Analysis"
   ]
  },
  {
   "cell_type": "code",
   "execution_count": 109,
   "metadata": {
    "collapsed": true
   },
   "outputs": [],
   "source": [
    "%matplotlib inline\n",
    "import matplotlib.pyplot as plt \n",
    "import seaborn as sns\n",
    "#import prettyplotlib as ppl"
   ]
  },
  {
   "cell_type": "code",
   "execution_count": 103,
   "metadata": {
    "collapsed": false
   },
   "outputs": [
    {
     "data": {
      "text/plain": [
       "<matplotlib.axes._subplots.AxesSubplot at 0x118359780>"
      ]
     },
     "execution_count": 103,
     "metadata": {},
     "output_type": "execute_result"
    },
    {
     "data": {
      "image/png": "[encoded data removed]",
      "text/plain": [
       "<matplotlib.figure.Figure at 0x118eaac88>"
      ]
     },
     "metadata": {},
     "output_type": "display_data"
    }
   ],
   "source": [
    "sns.heatmap(train.corr())"
   ]
  },
  {
   "cell_type": "code",
   "execution_count": 151,
   "metadata": {
    "collapsed": false
   },
   "outputs": [],
   "source": [
    "from scipy.stats import chi2_contingency\n",
    "\n",
    "def chisq_of_df_cols(df, c1, c2):\n",
    "    groupsizes = df.groupby([c1, c2]).size()\n",
    "    #print(groupsizes)\n",
    "    ctsum = groupsizes.unstack(c1)\n",
    "    #print(ctsum)\n",
    "    # fillna(0) is necessary to remove any NAs which will cause exceptions\n",
    "    squared,p,dof,ef = chi2_contingency(ctsum.fillna(0))\n",
    "    return(p)"
   ]
  },
  {
   "cell_type": "code",
   "execution_count": 157,
   "metadata": {
    "collapsed": false
   },
   "outputs": [
    {
     "name": "stdout",
     "output_type": "stream",
     "text": [
      "Pclass\n",
      "Sex\n",
      "Age\n",
      "SibSp\n",
      "Parch\n",
      "Fare\n",
      "Embarked\n",
      "Title\n",
      "ticket_str0\n",
      "cabin_str0\n",
      "FamilySize\n",
      "IsAlone\n",
      "IssmallFamily\n",
      "IslargeFamily\n"
     ]
    },
    {
     "data": {
      "text/plain": [
       "{'Age': 0.03358316459333565,\n",
       " 'Embarked': 2.3008626481449531e-06,\n",
       " 'FamilySize': 3.579668975443533e-14,\n",
       " 'Fare': 1.1647635739939964e-11,\n",
       " 'IsAlone': 1.9726543846517183e-09,\n",
       " 'IslargeFamily': 0.00031793943924433447,\n",
       " 'IssmallFamily': 1.2299755327057432e-16,\n",
       " 'Parch': 9.7035264210399973e-05,\n",
       " 'Pclass': 4.5492517112987927e-23,\n",
       " 'Sex': 1.1973570627755645e-58,\n",
       " 'SibSp': 1.5585810465902116e-06,\n",
       " 'Title': 3.9578613471597442e-61,\n",
       " 'cabin_str0': 7.9094902798289595e-22,\n",
       " 'ticket_str0': 3.1793624812169768e-22}"
      ]
     },
     "execution_count": 157,
     "metadata": {},
     "output_type": "execute_result"
    }
   ],
   "source": [
    "ps={}\n",
    "column_names = train.columns\n",
    "column_names = column_names.drop('Survived')\n",
    "\n",
    "for i in column_names:\n",
    "    print(i)\n",
    "    p = chisq_of_df_cols(train, i, 'Survived')\n",
    "    ps.update({i:p})\n",
    "\n",
    "ps"
   ]
  },
  {
   "cell_type": "code",
   "execution_count": 173,
   "metadata": {
    "collapsed": false
   },
   "outputs": [
    {
     "name": "stdout",
     "output_type": "stream",
     "text": [
      "                          0\n",
      "Title          3.957861e-61\n",
      "Sex            1.197357e-58\n",
      "Pclass         4.549252e-23\n",
      "ticket_str0    3.179362e-22\n",
      "cabin_str0     7.909490e-22\n",
      "IssmallFamily  1.229976e-16\n",
      "FamilySize     3.579669e-14\n",
      "Fare           1.164764e-11\n",
      "IsAlone        1.972654e-09\n",
      "SibSp          1.558581e-06\n",
      "Embarked       2.300863e-06\n",
      "Parch          9.703526e-05\n",
      "IslargeFamily  3.179394e-04\n",
      "Age            3.358316e-02\n"
     ]
    }
   ],
   "source": [
    "a = pd.DataFrame.from_dict(ps, orient='index')\n",
    "print(a.sort_values(by=0, ascending=True))"
   ]
  },
  {
   "cell_type": "markdown",
   "metadata": {},
   "source": [
    "Set alpha < 0.05. All factors are less than the p value 0.05, thus factors has significant affect to the survival rate. The order is above."
   ]
  },
  {
   "cell_type": "markdown",
   "metadata": {},
   "source": [
    "### Embarked"
   ]
  },
  {
   "cell_type": "code",
   "execution_count": 108,
   "metadata": {
    "collapsed": false
   },
   "outputs": [
    {
     "data": {
      "image/png": "[encoded data removed]",
      "text/plain": [
       "<matplotlib.figure.Figure at 0x11906b828>"
      ]
     },
     "metadata": {},
     "output_type": "display_data"
    },
    {
     "data": {
      "image/png": "[encoded data removed]",
      "text/plain": [
       "<matplotlib.figure.Figure at 0x118c97160>"
      ]
     },
     "metadata": {},
     "output_type": "display_data"
    }
   ],
   "source": [
    "plt.figure(figsize=(10,5))\n",
    "plt.subplot(1,2,1)\n",
    "#sns.countplot(x = train['Embarked'])\n",
    "sns.countplot(x=train['Embarked'], hue=train['Survived'])\n",
    "plt.title(\"Number of Survival Based on Embarked Place\")\n",
    "plt.xlabel('Embarked')\n",
    "plt.ylabel('Counts')\n",
    "plt.xticks([0,1,2],['S','C','Q'])\n",
    "#plt.yticks([100,200,300,400])\n",
    "plt.legend(['No','Yes'])\n",
    "\n",
    "plt.subplot(1,2,2)\n",
    "survival_emb = train[['Embarked', 'Survived']].groupby(['Embarked'], as_index=False).mean()\n",
    "sns.barplot(x=survival_emb['Embarked'], y=survival_emb['Survived'])\n",
    "plt.title(\"Survival Rate Based on Embarked Place\")\n",
    "plt.xlabel('Embarked')\n",
    "plt.ylabel('Survival Rate')\n",
    "plt.xticks([0,1,2],['S','C','Q'])\n",
    "plt.ylim(0.0,1.0)\n",
    "plt.show()\n",
    "\n",
    "sns.factorplot('Embarked', 'Survived', data=train, aspect = 2.5)\n",
    "plt.xticks([0,1,2],['S','C','Q'])\n",
    "plt.ylim(0.0,1.0)\n",
    "plt.show()"
   ]
  },
  {
   "cell_type": "markdown",
   "metadata": {},
   "source": [
    "Although, departing from Cherbourg has slightly higher survival rate than other, it seems not have huge impact on survival rate. We can test without embarked."
   ]
  },
  {
   "cell_type": "code",
   "execution_count": 174,
   "metadata": {
    "collapsed": false
   },
   "outputs": [
    {
     "name": "stdout",
     "output_type": "stream",
     "text": [
      "    Age  Survived\n",
      "0  0.42  1.000000\n",
      "1  0.67  1.000000\n",
      "2  0.75  1.000000\n",
      "3  0.83  1.000000\n",
      "4  0.92  1.000000\n",
      "5  1.00  0.714286\n",
      "6  2.00  0.300000\n",
      "7  3.00  0.833333\n",
      "8  4.00  0.700000\n",
      "9  5.00  1.000000\n"
     ]
    }
   ],
   "source": [
    "survival_age = train[['Age', 'Survived']].groupby(['Age'], as_index=False).mean()\n",
    "print(survival_age[0:10])"
   ]
  },
  {
   "cell_type": "code",
   "execution_count": 175,
   "metadata": {
    "collapsed": false
   },
   "outputs": [
    {
     "data": {
      "image/png": "[encoded data removed]",
      "text/plain": [
       "<matplotlib.figure.Figure at 0x1188dcb38>"
      ]
     },
     "metadata": {},
     "output_type": "display_data"
    }
   ],
   "source": [
    "plt.figure(figsize=(10,5))\n",
    "age_died = train.loc[train['Survived']==0, \"Age\"]\n",
    "age_died.plot.hist(fc=(1, 0, 0, 0.5), normed=1, label=\"No\")\n",
    "\n",
    "age_survived = train.loc[train['Survived']==1, \"Age\"]\n",
    "age_survived.plot.hist(fc=(0, 0, 1, 0.5), normed=1, label=\"Yes\")\n",
    "\n",
    "plt.title(\"Distribution of Age Based on Survivors and Non-Survivors\")\n",
    "plt.xlabel(\"Age\")\n",
    "plt.ylabel(\"Percentage of Passengers\")\n",
    "plt.legend(loc='upper right')\n",
    "\n",
    "plt.show()"
   ]
  },
  {
   "cell_type": "markdown",
   "metadata": {},
   "source": [
    "Age less than 18 has higher chance of surviving, and age between 18-30 has less chance of surviving. We can add a group child, adult to the factor to test."
   ]
  },
  {
   "cell_type": "code",
   "execution_count": null,
   "metadata": {
    "collapsed": true
   },
   "outputs": [],
   "source": [
    "plt.figure(figsize=(10,5))\n",
    "age_died = train.loc[train['Survived']==0, \"Age\"]\n",
    "age_died.plot.hist(fc=(1, 0, 0, 0.5), normed=1, label=\"No\")\n",
    "\n",
    "age_survived = train.loc[train['Survived']==1, \"Age\"]\n",
    "age_survived.plot.hist(fc=(0, 0, 1, 0.5), normed=1, label=\"Yes\")\n",
    "\n",
    "plt.title(\"Distribution of Age Based on Survivors and Non-Survivors\")\n",
    "plt.xlabel(\"Age\")\n",
    "plt.ylabel(\"Percentage of Passengers\")\n",
    "plt.legend(loc='upper right')\n",
    "\n",
    "plt.show()\n",
    "sns.FacetGrid(df, col='country', hue='country', col_wrap=4, )"
   ]
  },
  {
   "cell_type": "markdown",
   "metadata": {
    "collapsed": true
   },
   "source": [
    "## Feature Importance"
   ]
  },
  {
   "cell_type": "code",
   "execution_count": 77,
   "metadata": {
    "collapsed": false
   },
   "outputs": [
    {
     "name": "stderr",
     "output_type": "stream",
     "text": [
      "/Users/mihoyamamoto/anaconda3/lib/python3.6/site-packages/ipykernel/__main__.py:1: FutureWarning: sort(columns=....) is deprecated, use sort_values(by=.....)\n",
      "  if __name__ == '__main__':\n"
     ]
    },
    {
     "data": {
      "text/html": [
       "<div>\n",
       "<table border=\"1\" class=\"dataframe\">\n",
       "  <thead>\n",
       "    <tr style=\"text-align: right;\">\n",
       "      <th></th>\n",
       "      <th>Feature Importance</th>\n",
       "    </tr>\n",
       "  </thead>\n",
       "  <tbody>\n",
       "    <tr>\n",
       "      <th>Sex</th>\n",
       "      <td>0.262839</td>\n",
       "    </tr>\n",
       "    <tr>\n",
       "      <th>Title</th>\n",
       "      <td>0.161237</td>\n",
       "    </tr>\n",
       "    <tr>\n",
       "      <th>Fare</th>\n",
       "      <td>0.149049</td>\n",
       "    </tr>\n",
       "    <tr>\n",
       "      <th>Age</th>\n",
       "      <td>0.119957</td>\n",
       "    </tr>\n",
       "    <tr>\n",
       "      <th>Pclass</th>\n",
       "      <td>0.083000</td>\n",
       "    </tr>\n",
       "    <tr>\n",
       "      <th>cabin_str0</th>\n",
       "      <td>0.065693</td>\n",
       "    </tr>\n",
       "    <tr>\n",
       "      <th>ticket_str0</th>\n",
       "      <td>0.041276</td>\n",
       "    </tr>\n",
       "    <tr>\n",
       "      <th>IslargeFamily</th>\n",
       "      <td>0.024210</td>\n",
       "    </tr>\n",
       "    <tr>\n",
       "      <th>Embarked</th>\n",
       "      <td>0.021370</td>\n",
       "    </tr>\n",
       "    <tr>\n",
       "      <th>IssmallFamily</th>\n",
       "      <td>0.021370</td>\n",
       "    </tr>\n",
       "    <tr>\n",
       "      <th>SibSp</th>\n",
       "      <td>0.019906</td>\n",
       "    </tr>\n",
       "    <tr>\n",
       "      <th>Parch</th>\n",
       "      <td>0.018919</td>\n",
       "    </tr>\n",
       "    <tr>\n",
       "      <th>IsAlone</th>\n",
       "      <td>0.011175</td>\n",
       "    </tr>\n",
       "  </tbody>\n",
       "</table>\n",
       "</div>"
      ],
      "text/plain": [
       "               Feature Importance\n",
       "Sex                      0.262839\n",
       "Title                    0.161237\n",
       "Fare                     0.149049\n",
       "Age                      0.119957\n",
       "Pclass                   0.083000\n",
       "cabin_str0               0.065693\n",
       "ticket_str0              0.041276\n",
       "IslargeFamily            0.024210\n",
       "Embarked                 0.021370\n",
       "IssmallFamily            0.021370\n",
       "SibSp                    0.019906\n",
       "Parch                    0.018919\n",
       "IsAlone                  0.011175"
      ]
     },
     "execution_count": 77,
     "metadata": {},
     "output_type": "execute_result"
    }
   ],
   "source": [
    "pd.DataFrame(clf.feature_importances_, index=X.columns, columns=[\"Feature Importance\"]).sort(\"Feature Importance\", ascending=False)"
   ]
  },
  {
   "cell_type": "code",
   "execution_count": null,
   "metadata": {
    "collapsed": true
   },
   "outputs": [],
   "source": []
  }
 ],
 "metadata": {
  "kernelspec": {
   "display_name": "Python 3",
   "language": "python",
   "name": "python3"
  },
  "language_info": {
   "codemirror_mode": {
    "name": "ipython",
    "version": 3
   },
   "file_extension": ".py",
   "mimetype": "text/x-python",
   "name": "python",
   "nbconvert_exporter": "python",
   "pygments_lexer": "ipython3",
   "version": "3.6.0"
  }
 },
 "nbformat": 4,
 "nbformat_minor": 2
}
