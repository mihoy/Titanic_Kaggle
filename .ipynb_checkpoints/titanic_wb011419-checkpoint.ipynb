{
 "cells": [
  {
   "cell_type": "code",
   "execution_count": 1,
   "metadata": {
    "collapsed": true
   },
   "outputs": [],
   "source": [
    "# -*- coding: utf-8 -*-\n",
    "\n",
    "# data analysis and wrangling\n",
    "import pandas as pd\n",
    "import numpy as np\n",
    "import random as rnd"
   ]
  },
  {
   "cell_type": "code",
   "execution_count": 4,
   "metadata": {
    "collapsed": false
   },
   "outputs": [],
   "source": [
    "# machine learning\n",
    "from sklearn.ensemble import RandomForestClassifier\n",
    "\n",
    "# machine learning tools\n",
    "from sklearn.model_selection import train_test_split, KFold, GridSearchCV, RandomizedSearchCV\n",
    "from sklearn.metrics import accuracy_score, classification_report, confusion_matrix,recall_score,precision_score,f1_score\n",
    "#from sklearn import grid_search\n",
    "#from sklearn.grid_search import GridSearchCV"
   ]
  },
  {
   "cell_type": "code",
   "execution_count": 5,
   "metadata": {
    "collapsed": false
   },
   "outputs": [
    {
     "data": {
      "text/html": [
       "<div>\n",
       "<table border=\"1\" class=\"dataframe\">\n",
       "  <thead>\n",
       "    <tr style=\"text-align: right;\">\n",
       "      <th></th>\n",
       "      <th>PassengerId</th>\n",
       "      <th>Survived</th>\n",
       "      <th>Pclass</th>\n",
       "      <th>Name</th>\n",
       "      <th>Sex</th>\n",
       "      <th>Age</th>\n",
       "      <th>SibSp</th>\n",
       "      <th>Parch</th>\n",
       "      <th>Ticket</th>\n",
       "      <th>Fare</th>\n",
       "      <th>Cabin</th>\n",
       "      <th>Embarked</th>\n",
       "    </tr>\n",
       "  </thead>\n",
       "  <tbody>\n",
       "    <tr>\n",
       "      <th>0</th>\n",
       "      <td>1</td>\n",
       "      <td>0</td>\n",
       "      <td>3</td>\n",
       "      <td>Braund, Mr. Owen Harris</td>\n",
       "      <td>male</td>\n",
       "      <td>22.0</td>\n",
       "      <td>1</td>\n",
       "      <td>0</td>\n",
       "      <td>A/5 21171</td>\n",
       "      <td>7.2500</td>\n",
       "      <td>NaN</td>\n",
       "      <td>S</td>\n",
       "    </tr>\n",
       "    <tr>\n",
       "      <th>1</th>\n",
       "      <td>2</td>\n",
       "      <td>1</td>\n",
       "      <td>1</td>\n",
       "      <td>Cumings, Mrs. John Bradley (Florence Briggs Th...</td>\n",
       "      <td>female</td>\n",
       "      <td>38.0</td>\n",
       "      <td>1</td>\n",
       "      <td>0</td>\n",
       "      <td>PC 17599</td>\n",
       "      <td>71.2833</td>\n",
       "      <td>C85</td>\n",
       "      <td>C</td>\n",
       "    </tr>\n",
       "    <tr>\n",
       "      <th>2</th>\n",
       "      <td>3</td>\n",
       "      <td>1</td>\n",
       "      <td>3</td>\n",
       "      <td>Heikkinen, Miss. Laina</td>\n",
       "      <td>female</td>\n",
       "      <td>26.0</td>\n",
       "      <td>0</td>\n",
       "      <td>0</td>\n",
       "      <td>STON/O2. 3101282</td>\n",
       "      <td>7.9250</td>\n",
       "      <td>NaN</td>\n",
       "      <td>S</td>\n",
       "    </tr>\n",
       "  </tbody>\n",
       "</table>\n",
       "</div>"
      ],
      "text/plain": [
       "   PassengerId  Survived  Pclass  \\\n",
       "0            1         0       3   \n",
       "1            2         1       1   \n",
       "2            3         1       3   \n",
       "\n",
       "                                                Name     Sex   Age  SibSp  \\\n",
       "0                            Braund, Mr. Owen Harris    male  22.0      1   \n",
       "1  Cumings, Mrs. John Bradley (Florence Briggs Th...  female  38.0      1   \n",
       "2                             Heikkinen, Miss. Laina  female  26.0      0   \n",
       "\n",
       "   Parch            Ticket     Fare Cabin Embarked  \n",
       "0      0         A/5 21171   7.2500   NaN        S  \n",
       "1      0          PC 17599  71.2833   C85        C  \n",
       "2      0  STON/O2. 3101282   7.9250   NaN        S  "
      ]
     },
     "execution_count": 5,
     "metadata": {},
     "output_type": "execute_result"
    }
   ],
   "source": [
    "train = pd.read_csv('input/train.csv')\n",
    "test = pd.read_csv('input/test.csv')\n",
    "train.head(3)"
   ]
  },
  {
   "cell_type": "code",
   "execution_count": 6,
   "metadata": {
    "collapsed": false
   },
   "outputs": [
    {
     "name": "stdout",
     "output_type": "stream",
     "text": [
      "<class 'pandas.core.frame.DataFrame'>\n",
      "RangeIndex: 891 entries, 0 to 890\n",
      "Data columns (total 12 columns):\n",
      "PassengerId    891 non-null int64\n",
      "Survived       891 non-null int64\n",
      "Pclass         891 non-null int64\n",
      "Name           891 non-null object\n",
      "Sex            891 non-null object\n",
      "Age            714 non-null float64\n",
      "SibSp          891 non-null int64\n",
      "Parch          891 non-null int64\n",
      "Ticket         891 non-null object\n",
      "Fare           891 non-null float64\n",
      "Cabin          204 non-null object\n",
      "Embarked       889 non-null object\n",
      "dtypes: float64(2), int64(5), object(5)\n",
      "memory usage: 83.6+ KB\n",
      "<class 'pandas.core.frame.DataFrame'>\n",
      "RangeIndex: 418 entries, 0 to 417\n",
      "Data columns (total 11 columns):\n",
      "PassengerId    418 non-null int64\n",
      "Pclass         418 non-null int64\n",
      "Name           418 non-null object\n",
      "Sex            418 non-null object\n",
      "Age            332 non-null float64\n",
      "SibSp          418 non-null int64\n",
      "Parch          418 non-null int64\n",
      "Ticket         418 non-null object\n",
      "Fare           417 non-null float64\n",
      "Cabin          91 non-null object\n",
      "Embarked       418 non-null object\n",
      "dtypes: float64(2), int64(4), object(5)\n",
      "memory usage: 36.0+ KB\n"
     ]
    }
   ],
   "source": [
    "train.info()\n",
    "test.info()"
   ]
  },
  {
   "cell_type": "code",
   "execution_count": 7,
   "metadata": {
    "collapsed": false
   },
   "outputs": [],
   "source": [
    "#combine is a list of dataset train and test. This will help cleansing all data\n",
    "combine = [train, test]\n",
    "#keep test PassengerID for the submission\n",
    "p_id = test['PassengerId']"
   ]
  },
  {
   "cell_type": "code",
   "execution_count": 8,
   "metadata": {
    "collapsed": false
   },
   "outputs": [
    {
     "name": "stdout",
     "output_type": "stream",
     "text": [
      "male      577\n",
      "female    314\n",
      "Name: Sex, dtype: int64\n",
      "male      266\n",
      "female    152\n",
      "Name: Sex, dtype: int64\n"
     ]
    }
   ],
   "source": [
    "#Change odject to numbers\n",
    "print(train['Sex'].value_counts(dropna=False))\n",
    "print(test['Sex'].value_counts(dropna=False))"
   ]
  },
  {
   "cell_type": "code",
   "execution_count": 9,
   "metadata": {
    "collapsed": true
   },
   "outputs": [],
   "source": [
    "for dataset in combine:\n",
    "    dataset['Sex'] = dataset['Sex'].map({'female':1, 'male': 0}).astype(int)\n",
    "\n",
    "# for dataset in combine:\n",
    "#     dataset['Sex'] = dataset['Sex'].map( {'female': 1, 'male': 0} ).astype(int)"
   ]
  },
  {
   "cell_type": "code",
   "execution_count": 10,
   "metadata": {
    "collapsed": false
   },
   "outputs": [
    {
     "data": {
      "text/plain": [
       "0    577\n",
       "1    314\n",
       "Name: Sex, dtype: int64"
      ]
     },
     "execution_count": 10,
     "metadata": {},
     "output_type": "execute_result"
    }
   ],
   "source": [
    "train['Sex'].value_counts(dropna=False)"
   ]
  },
  {
   "cell_type": "code",
   "execution_count": 11,
   "metadata": {
    "collapsed": false
   },
   "outputs": [
    {
     "name": "stdout",
     "output_type": "stream",
     "text": [
      "S      644\n",
      "C      168\n",
      "Q       77\n",
      "NaN      2\n",
      "Name: Embarked, dtype: int64\n",
      "S    270\n",
      "C    102\n",
      "Q     46\n",
      "Name: Embarked, dtype: int64\n"
     ]
    }
   ],
   "source": [
    "print(train['Embarked'].value_counts(dropna=False))\n",
    "print(test['Embarked'].value_counts(dropna=False))"
   ]
  },
  {
   "cell_type": "code",
   "execution_count": 12,
   "metadata": {
    "collapsed": false
   },
   "outputs": [
    {
     "data": {
      "text/plain": [
       "0    646\n",
       "1    168\n",
       "2     77\n",
       "Name: Embarked, dtype: int64"
      ]
     },
     "execution_count": 12,
     "metadata": {},
     "output_type": "execute_result"
    }
   ],
   "source": [
    "for dataset in combine:\n",
    "    dataset['Embarked'] = dataset['Embarked'].fillna('S')\n",
    "    dataset['Embarked'] = dataset['Embarked'].map({'S':0, 'C':1, 'Q':2}).astype(int)\n",
    "\n",
    "train['Embarked'].value_counts(dropna=False)"
   ]
  },
  {
   "cell_type": "code",
   "execution_count": 13,
   "metadata": {
    "collapsed": false
   },
   "outputs": [
    {
     "name": "stdout",
     "output_type": "stream",
     "text": [
      "count    714.000000\n",
      "mean      29.699118\n",
      "std       14.526497\n",
      "min        0.420000\n",
      "25%       20.125000\n",
      "50%       28.000000\n",
      "75%       38.000000\n",
      "max       80.000000\n",
      "Name: Age, dtype: float64\n",
      "count    332.000000\n",
      "mean      30.272590\n",
      "std       14.181209\n",
      "min        0.170000\n",
      "25%       21.000000\n",
      "50%       27.000000\n",
      "75%       39.000000\n",
      "max       76.000000\n",
      "Name: Age, dtype: float64\n"
     ]
    }
   ],
   "source": [
    "#filling out the missing data points\n",
    "print(train['Age'].describe())\n",
    "print(test['Age'].describe())"
   ]
  },
  {
   "cell_type": "code",
   "execution_count": 14,
   "metadata": {
    "collapsed": true
   },
   "outputs": [],
   "source": [
    "for dataset in combine:\n",
    "    dataset['Age'].fillna(train.Age.mean(), inplace=True)"
   ]
  },
  {
   "cell_type": "code",
   "execution_count": 15,
   "metadata": {
    "collapsed": true
   },
   "outputs": [],
   "source": [
    "#Work on Name\n",
    "for dataset in combine:\n",
    "    dataset['Title'] = dataset.Name.str.extract(' ([A-Za-z]+)\\.', expand=False)"
   ]
  },
  {
   "cell_type": "code",
   "execution_count": 16,
   "metadata": {
    "collapsed": false
   },
   "outputs": [
    {
     "name": "stdout",
     "output_type": "stream",
     "text": [
      "Mr          517\n",
      "Miss        182\n",
      "Mrs         125\n",
      "Master       40\n",
      "Dr            7\n",
      "Rev           6\n",
      "Col           2\n",
      "Mlle          2\n",
      "Major         2\n",
      "Lady          1\n",
      "Capt          1\n",
      "Sir           1\n",
      "Don           1\n",
      "Jonkheer      1\n",
      "Ms            1\n",
      "Mme           1\n",
      "Countess      1\n",
      "Name: Title, dtype: int64\n",
      "Mr        240\n",
      "Miss       78\n",
      "Mrs        72\n",
      "Master     21\n",
      "Col         2\n",
      "Rev         2\n",
      "Dona        1\n",
      "Dr          1\n",
      "Ms          1\n",
      "Name: Title, dtype: int64\n"
     ]
    }
   ],
   "source": [
    "print(train['Title'].value_counts(dropna=False))\n",
    "print(test['Title'].value_counts(dropna=False))"
   ]
  },
  {
   "cell_type": "code",
   "execution_count": 17,
   "metadata": {
    "collapsed": false
   },
   "outputs": [
    {
     "data": {
      "text/plain": [
       "1    517\n",
       "2    185\n",
       "3    126\n",
       "4     40\n",
       "5     23\n",
       "Name: Title, dtype: int64"
      ]
     },
     "execution_count": 17,
     "metadata": {},
     "output_type": "execute_result"
    }
   ],
   "source": [
    "for dataset in combine:\n",
    "    dataset['Title'] = dataset['Title'].replace(['Lady', 'Countess','Capt', 'Col',\\\n",
    " \t'Don', 'Dr', 'Major', 'Rev', 'Sir', 'Jonkheer', 'Dona'], 'Rare')\n",
    "    dataset['Title'] = dataset['Title'].replace('Mlle', 'Miss')\n",
    "    dataset['Title'] = dataset['Title'].replace('Ms', 'Miss')\n",
    "    dataset['Title'] = dataset['Title'].replace('Mme', 'Mrs')\n",
    "    \n",
    "for dataset in combine:\n",
    "    dataset['Title'] = dataset['Title'].map({\"Mr\": 1, \"Miss\": 2, \"Mrs\": 3, \"Master\": 4, \"Rare\": 5})\n",
    "    dataset['Title'] = dataset['Title'].fillna(0)\n",
    "\n",
    "train['Title'].value_counts(dropna=False)  "
   ]
  },
  {
   "cell_type": "code",
   "execution_count": 18,
   "metadata": {
    "collapsed": false
   },
   "outputs": [
    {
     "name": "stdout",
     "output_type": "stream",
     "text": [
      "3    301\n",
      "2    183\n",
      "1    146\n",
      "P     65\n",
      "S     65\n",
      "C     47\n",
      "A     29\n",
      "W     13\n",
      "4     10\n",
      "7      9\n",
      "F      7\n",
      "6      6\n",
      "L      4\n",
      "5      3\n",
      "8      2\n",
      "9      1\n",
      "Name: ticket_str0, dtype: int64\n",
      "3    128\n",
      "2     95\n",
      "1     64\n",
      "P     33\n",
      "S     33\n",
      "C     30\n",
      "A     13\n",
      "F      6\n",
      "W      6\n",
      "7      4\n",
      "6      3\n",
      "4      1\n",
      "9      1\n",
      "L      1\n",
      "Name: ticket_str0, dtype: int64\n"
     ]
    }
   ],
   "source": [
    "for dataset in combine:\n",
    "    dataset['ticket_str0'] = dataset['Ticket'].str[0]\n",
    "\n",
    "print(train['ticket_str0'].value_counts(dropna=False))\n",
    "print(test['ticket_str0'].value_counts(dropna=False))"
   ]
  },
  {
   "cell_type": "code",
   "execution_count": 19,
   "metadata": {
    "collapsed": false
   },
   "outputs": [
    {
     "name": "stdout",
     "output_type": "stream",
     "text": [
      "  ticket_str0  Survived\n",
      "6           P  0.646154\n",
      "1           1  0.630137\n",
      "2           2  0.464481\n",
      "5           C  0.340426\n",
      "7           S  0.323077\n",
      "3           3  0.239203\n",
      "0           0  0.218182\n",
      "4           A  0.068966\n",
      "  ticket_str0  Survived\n",
      "3           3       301\n",
      "2           2       183\n",
      "1           1       146\n",
      "6           P        65\n",
      "7           S        65\n",
      "0           0        55\n",
      "5           C        47\n",
      "4           A        29\n"
     ]
    }
   ],
   "source": [
    "for dataset in combine:\n",
    "    dataset['ticket_str0'] = np.where(dataset['ticket_str0'].isin(['1','2','3','P','S','C','A']),dataset['ticket_str0'], 0)\n",
    "\n",
    "a = train[['ticket_str0', 'Survived']].groupby(['ticket_str0'], as_index=False).mean().sort_values(by='Survived', ascending=False)\n",
    "b = train[['ticket_str0', 'Survived']].groupby(['ticket_str0'], as_index=False).count().sort_values(by='Survived', ascending=False)\n",
    "\n",
    "print(a)\n",
    "print(b)"
   ]
  },
  {
   "cell_type": "code",
   "execution_count": 20,
   "metadata": {
    "collapsed": false
   },
   "outputs": [
    {
     "name": "stdout",
     "output_type": "stream",
     "text": [
      "3    413\n",
      "1    211\n",
      "2    183\n",
      "0     84\n",
      "Name: ticket_str0, dtype: int64\n"
     ]
    }
   ],
   "source": [
    "for dataset in combine:\n",
    "    dataset['ticket_str0'].replace({'1':1,'2':2,'3':3,'0':0, 'P':1, 'C':3, 'S':3, 'A':0}, inplace = True)\n",
    "\n",
    "print(train['ticket_str0'].value_counts(dropna=False))"
   ]
  },
  {
   "cell_type": "code",
   "execution_count": 21,
   "metadata": {
    "collapsed": false
   },
   "outputs": [
    {
     "name": "stdout",
     "output_type": "stream",
     "text": [
      "   ticket_str0  Survived\n",
      "1            1  0.635071\n",
      "2            2  0.464481\n",
      "3            3  0.263923\n",
      "0            0  0.166667\n"
     ]
    }
   ],
   "source": [
    "c = train[['ticket_str0', 'Survived']].groupby(['ticket_str0'], as_index=False).mean().sort_values(by='Survived', ascending=False)\n",
    "print(c)"
   ]
  },
  {
   "cell_type": "code",
   "execution_count": 22,
   "metadata": {
    "collapsed": false
   },
   "outputs": [
    {
     "name": "stdout",
     "output_type": "stream",
     "text": [
      "NaN                687\n",
      "G6                   4\n",
      "C23 C25 C27          4\n",
      "B96 B98              4\n",
      "E101                 3\n",
      "F33                  3\n",
      "F2                   3\n",
      "D                    3\n",
      "C22 C26              3\n",
      "F G73                2\n",
      "B58 B60              2\n",
      "B18                  2\n",
      "B49                  2\n",
      "C78                  2\n",
      "C93                  2\n",
      "C124                 2\n",
      "E33                  2\n",
      "B51 B53 B55          2\n",
      "C83                  2\n",
      "C2                   2\n",
      "F4                   2\n",
      "D26                  2\n",
      "C92                  2\n",
      "B57 B59 B63 B66      2\n",
      "D36                  2\n",
      "E25                  2\n",
      "D33                  2\n",
      "E8                   2\n",
      "C125                 2\n",
      "D20                  2\n",
      "                  ... \n",
      "B39                  1\n",
      "D37                  1\n",
      "C70                  1\n",
      "B69                  1\n",
      "E63                  1\n",
      "C99                  1\n",
      "D15                  1\n",
      "B42                  1\n",
      "E40                  1\n",
      "A16                  1\n",
      "A32                  1\n",
      "A7                   1\n",
      "D47                  1\n",
      "E58                  1\n",
      "A23                  1\n",
      "E68                  1\n",
      "E12                  1\n",
      "B86                  1\n",
      "B4                   1\n",
      "B82 B84              1\n",
      "A5                   1\n",
      "D7                   1\n",
      "C85                  1\n",
      "B19                  1\n",
      "B79                  1\n",
      "E50                  1\n",
      "F E69                1\n",
      "F38                  1\n",
      "A26                  1\n",
      "C50                  1\n",
      "Name: Cabin, dtype: int64\n",
      "NaN                327\n",
      "B57 B59 B63 B66      3\n",
      "C116                 2\n",
      "B45                  2\n",
      "E34                  2\n",
      "C78                  2\n",
      "C55 C57              2\n",
      "C31                  2\n",
      "F4                   2\n",
      "C89                  2\n",
      "C23 C25 C27          2\n",
      "C80                  2\n",
      "C101                 2\n",
      "C6                   2\n",
      "A34                  2\n",
      "E45                  1\n",
      "C54                  1\n",
      "B10                  1\n",
      "B41                  1\n",
      "B51 B53 B55          1\n",
      "B36                  1\n",
      "D37                  1\n",
      "C132                 1\n",
      "C39                  1\n",
      "D40                  1\n",
      "E46                  1\n",
      "B58 B60              1\n",
      "E50                  1\n",
      "A11                  1\n",
      "A18                  1\n",
      "                  ... \n",
      "A9                   1\n",
      "D15                  1\n",
      "C46                  1\n",
      "C105                 1\n",
      "D21                  1\n",
      "E39 E41              1\n",
      "D19                  1\n",
      "D22                  1\n",
      "C86                  1\n",
      "C62 C64              1\n",
      "C32                  1\n",
      "F33                  1\n",
      "D43                  1\n",
      "B78                  1\n",
      "B69                  1\n",
      "F2                   1\n",
      "B11                  1\n",
      "F E46                1\n",
      "C106                 1\n",
      "A21                  1\n",
      "E60                  1\n",
      "D34                  1\n",
      "E31                  1\n",
      "B52 B54 B56          1\n",
      "A29                  1\n",
      "B71                  1\n",
      "E52                  1\n",
      "B61                  1\n",
      "D30                  1\n",
      "C51                  1\n",
      "Name: Cabin, dtype: int64\n"
     ]
    }
   ],
   "source": [
    "#Cabin\n",
    "print(train['Cabin'].value_counts(dropna=False))\n",
    "print(test['Cabin'].value_counts(dropna=False))"
   ]
  },
  {
   "cell_type": "code",
   "execution_count": 23,
   "metadata": {
    "collapsed": false
   },
   "outputs": [
    {
     "name": "stdout",
     "output_type": "stream",
     "text": [
      "  cabin_str0  Survived\n",
      "3          D  0.757576\n",
      "4          E  0.750000\n",
      "1          B  0.744681\n",
      "5          F  0.615385\n",
      "2          C  0.593220\n",
      "6          G  0.500000\n",
      "0          A  0.466667\n",
      "7          T  0.000000\n",
      "  cabin_str0  Survived\n",
      "2          C        59\n",
      "1          B        47\n",
      "3          D        33\n",
      "4          E        32\n",
      "0          A        15\n",
      "5          F        13\n",
      "6          G         4\n",
      "7          T         1\n"
     ]
    }
   ],
   "source": [
    "for dataset in combine:\n",
    "    dataset['cabin_str0'] = dataset['Cabin'].str[0]\n",
    "    \n",
    "a = train[['cabin_str0', 'Survived']].groupby(['cabin_str0'], as_index=False).mean().sort_values(by='Survived', ascending=False)\n",
    "b = train[['cabin_str0', 'Survived']].groupby(['cabin_str0'], as_index=False).count().sort_values(by='Survived', ascending=False)\n",
    "\n",
    "print(a)\n",
    "print(b) "
   ]
  },
  {
   "cell_type": "code",
   "execution_count": 24,
   "metadata": {
    "collapsed": false
   },
   "outputs": [
    {
     "data": {
      "text/plain": [
       "0    692\n",
       "2    112\n",
       "1     87\n",
       "Name: cabin_str0, dtype: int64"
      ]
     },
     "execution_count": 24,
     "metadata": {},
     "output_type": "execute_result"
    }
   ],
   "source": [
    "for dataset in combine:\n",
    "    dataset['cabin_str0'] = np.where(dataset['cabin_str0'].isin(['A','B','C','D','E','F']), dataset['cabin_str0'], 0)\n",
    "    dataset['cabin_str0'].replace({'A':1, 'B':2, 'C':1, 'D':2, 'E':2, 'F':1, '0':0}, inplace = True)\n",
    "\n",
    "train['cabin_str0'].value_counts(dropna=False)"
   ]
  },
  {
   "cell_type": "code",
   "execution_count": 25,
   "metadata": {
    "collapsed": false
   },
   "outputs": [
    {
     "name": "stdout",
     "output_type": "stream",
     "text": [
      "   FamilySize  Survived\n",
      "3           4  0.724138\n",
      "2           3  0.578431\n",
      "1           2  0.552795\n",
      "6           7  0.333333\n",
      "0           1  0.303538\n",
      "4           5  0.200000\n",
      "5           6  0.136364\n",
      "7           8  0.000000\n",
      "8          11  0.000000\n"
     ]
    }
   ],
   "source": [
    "#family in the ship\n",
    "for dataset in combine:\n",
    "    dataset[\"FamilySize\"] = dataset[\"SibSp\"] + dataset[\"Parch\"] + 1\n",
    "    \n",
    "print(train[['FamilySize', 'Survived']].groupby(['FamilySize'], as_index=False).mean()\\\n",
    "      .sort_values(by='Survived', ascending=False))\n"
   ]
  },
  {
   "cell_type": "code",
   "execution_count": 26,
   "metadata": {
    "collapsed": true
   },
   "outputs": [],
   "source": [
    " for dataset in combine:\n",
    "    dataset[\"IsAlone\"]=0\n",
    "    dataset[\"IssmallFamily\"]=0\n",
    "    dataset[\"IslargeFamily\"]=0 \n",
    "    dataset.loc[dataset[\"FamilySize\"]==1,\"IsAlone\"]=1\n",
    "    dataset.loc[(dataset['FamilySize'] <= 4) & (dataset['FamilySize'] > 1),\"IssmallFamily\"]=1\n",
    "    dataset.loc[dataset[\"FamilySize\"]>4,\"IslargeFamily\"]=1"
   ]
  },
  {
   "cell_type": "code",
   "execution_count": 27,
   "metadata": {
    "collapsed": false
   },
   "outputs": [
    {
     "name": "stdout",
     "output_type": "stream",
     "text": [
      "<class 'pandas.core.frame.DataFrame'>\n",
      "RangeIndex: 891 entries, 0 to 890\n",
      "Data columns (total 14 columns):\n",
      "Survived         891 non-null int64\n",
      "Pclass           891 non-null int64\n",
      "Sex              891 non-null int64\n",
      "Age              891 non-null float64\n",
      "SibSp            891 non-null int64\n",
      "Parch            891 non-null int64\n",
      "Fare             891 non-null float64\n",
      "Embarked         891 non-null int64\n",
      "Title            891 non-null int64\n",
      "ticket_str0      891 non-null int64\n",
      "cabin_str0       891 non-null int64\n",
      "IsAlone          891 non-null int64\n",
      "IssmallFamily    891 non-null int64\n",
      "IslargeFamily    891 non-null int64\n",
      "dtypes: float64(2), int64(12)\n",
      "memory usage: 97.5 KB\n",
      "None\n",
      "<class 'pandas.core.frame.DataFrame'>\n",
      "RangeIndex: 418 entries, 0 to 417\n",
      "Data columns (total 13 columns):\n",
      "Pclass           418 non-null int64\n",
      "Sex              418 non-null int64\n",
      "Age              418 non-null float64\n",
      "SibSp            418 non-null int64\n",
      "Parch            418 non-null int64\n",
      "Fare             417 non-null float64\n",
      "Embarked         418 non-null int64\n",
      "Title            418 non-null int64\n",
      "ticket_str0      418 non-null int64\n",
      "cabin_str0       418 non-null int64\n",
      "IsAlone          418 non-null int64\n",
      "IssmallFamily    418 non-null int64\n",
      "IslargeFamily    418 non-null int64\n",
      "dtypes: float64(2), int64(11)\n",
      "memory usage: 42.5 KB\n",
      "None\n"
     ]
    }
   ],
   "source": [
    "# train = train.drop(['PassengerId','Name','Ticket', 'Cabin', 'FamilySize', 'SibSp','Parch'], axis=1)\n",
    "# test = test.drop(['PassengerId','Name','Ticket', 'Cabin', 'FamilySize', 'SibSp','Parch'],  axis=1)\n",
    "train = train.drop(['PassengerId','Name','Ticket', 'Cabin', 'FamilySize'], axis=1)\n",
    "test = test.drop(['PassengerId','Name','Ticket', 'Cabin', 'FamilySize'],  axis=1)\n",
    "\n",
    "print(train.info())\n",
    "print(test.info())"
   ]
  },
  {
   "cell_type": "code",
   "execution_count": 28,
   "metadata": {
    "collapsed": false
   },
   "outputs": [],
   "source": [
    "test['Fare'].fillna(train.Fare.mean(), inplace=True)"
   ]
  },
  {
   "cell_type": "code",
   "execution_count": 27,
   "metadata": {
    "collapsed": true
   },
   "outputs": [],
   "source": [
    "combine = [train, test]"
   ]
  },
  {
   "cell_type": "markdown",
   "metadata": {},
   "source": [
    "# Prediction"
   ]
  },
  {
   "cell_type": "code",
   "execution_count": 30,
   "metadata": {
    "collapsed": false
   },
   "outputs": [
    {
     "name": "stdout",
     "output_type": "stream",
     "text": [
      "0.973063973064\n"
     ]
    }
   ],
   "source": [
    "#Initial Prediction\n",
    "\n",
    "clf = RandomForestClassifier()\n",
    "clf.fit(train.drop(['Survived'],axis=1), train['Survived'])\n",
    "Y_val_pred = clf.predict(test)\n",
    "print(clf.score(train.drop(['Survived'],axis=1), train['Survived']))"
   ]
  },
  {
   "cell_type": "code",
   "execution_count": 58,
   "metadata": {
    "collapsed": true
   },
   "outputs": [],
   "source": [
    "predictions = pd.DataFrame({\n",
    "        \"PassengerId\": p_id,\n",
    "        \"Survived\": Y_val_pred,\n",
    "    })\n",
    "\n",
    "predictions.to_csv(\"output/submit5_01112019.csv\",index=False)"
   ]
  },
  {
   "cell_type": "code",
   "execution_count": 29,
   "metadata": {
    "collapsed": true
   },
   "outputs": [],
   "source": [
    "# Testing Data\n",
    "#\n",
    "#x_train = study values from train data トレインデータの学習データ\n",
    "#x_val = study values from test data テストデータの　学習データ\n",
    "#Y_train = Answer from train data とれいんデータの答え\n",
    "#Y_val = Answer for test data テストデータの答え\n",
    "\n",
    "random_state=5\n",
    "X_train, X_val, Y_train, Y_val = train_test_split(combine[0].drop([\"Survived\"], axis=1)\\\n",
    "                , combine[0][\"Survived\"], train_size=0.8, random_state=random_state)"
   ]
  },
  {
   "cell_type": "code",
   "execution_count": 30,
   "metadata": {
    "collapsed": false
   },
   "outputs": [],
   "source": [
    "# parameters = {\n",
    "#         'n_estimators'      : [10,25,50,75,100],\n",
    "#         'random_state'      : [0],\n",
    "#         'n_jobs'            : [4],\n",
    "#         'min_samples_split' : [5,10, 15, 20,25, 30],\n",
    "#         'max_depth'         : [5, 10, 15,20,25,30]\n",
    "# }\n",
    "\n",
    "# clf = grid_search.GridSearchCV(RandomForestClassifier(), parameters)\n",
    "# clf.fit(train.drop(['Survived'],axis=1), train['Survived'])\n",
    " \n",
    "# print(clf.best_estimator_)"
   ]
  },
  {
   "cell_type": "code",
   "execution_count": 34,
   "metadata": {
    "collapsed": false
   },
   "outputs": [
    {
     "name": "stdout",
     "output_type": "stream",
     "text": [
      "[[104   7]\n",
      " [ 17  51]]\n",
      "Accuracy on Training Set: 0.875\n",
      "Accuracy on Validation Set: 0.866\n",
      "recall on Validation Set: 0.750\n",
      "precision on Validation Set: 0.879\n",
      "f1 on Validation Set: 0.810\n",
      "RandomForestClassifier=87.5\n"
     ]
    }
   ],
   "source": [
    "#検証用\n",
    "clf = RandomForestClassifier(bootstrap=True, class_weight=None, criterion='gini',\n",
    "            max_depth=15, max_features='auto', max_leaf_nodes=None,\n",
    "            min_impurity_split=1e-07, min_samples_leaf=1,\n",
    "            min_samples_split=20, min_weight_fraction_leaf=0.0,\n",
    "            n_estimators=100, n_jobs=4, oob_score=False, random_state=0,\n",
    "            verbose=0, warm_start=False)\n",
    "\n",
    "clf.fit(X_train, Y_train)\n",
    "Y_train_pred = clf.predict(X_train)\n",
    "Y_val_pred = clf.predict(X_val)\n",
    "acc_rfc = round(clf.score(X_train, Y_train) * 100, 2)\n",
    "cm = confusion_matrix(Y_val, Y_val_pred)\n",
    "print(cm)\n",
    "print('Accuracy on Training Set: {:.3f}'.format(accuracy_score(Y_train, Y_train_pred)))\n",
    "print('Accuracy on Validation Set: {:.3f}'.format(accuracy_score(Y_val, Y_val_pred)))\n",
    "print('recall on Validation Set: {:.3f}'.format(recall_score(Y_val, Y_val_pred)))\n",
    "print('precision on Validation Set: {:.3f}'.format(precision_score(Y_val, Y_val_pred)))\n",
    "print('f1 on Validation Set: {:.3f}'.format(f1_score(Y_val, Y_val_pred)))\n",
    "print(\"RandomForestClassifier={}\".format(acc_rfc))"
   ]
  },
  {
   "cell_type": "code",
   "execution_count": 36,
   "metadata": {
    "collapsed": false
   },
   "outputs": [],
   "source": [
    "# clf.fit(train.drop(['Survived'],axis=1), train['Survived'])\n",
    "# Y_val_pred = clf.predict(test)\n",
    "\n",
    "# predictions = pd.DataFrame({\"PassengerId\": p_id,\"Survived\": Y_val_pred})\n",
    "\n",
    "# predictions.to_csv(\"output/submit3_01112019.csv\",index=False)"
   ]
  },
  {
   "cell_type": "code",
   "execution_count": 37,
   "metadata": {
    "collapsed": false
   },
   "outputs": [
    {
     "name": "stdout",
     "output_type": "stream",
     "text": [
      "[[102   9]\n",
      " [ 18  50]]\n",
      "Accuracy on Training Set: 0.890\n",
      "Accuracy on Validation Set: 0.849\n",
      "recall on Validation Set: 0.735\n",
      "precision on Validation Set: 0.847\n",
      "f1 on Validation Set: 0.787\n",
      "RandomForestClassifier=89.04\n"
     ]
    }
   ],
   "source": [
    "#検証用\n",
    "clf = RandomForestClassifier(bootstrap=True, class_weight=None, criterion='gini',\n",
    "            max_depth=25, max_features='auto', max_leaf_nodes=None,\n",
    "            min_samples_leaf=1, min_samples_split=15,\n",
    "            min_weight_fraction_leaf=0.0, n_estimators=51, n_jobs=4,\n",
    "            oob_score=False, random_state=0, verbose=0, warm_start=False)\n",
    "\n",
    "clf.fit(X_train, Y_train)\n",
    "Y_train_pred = clf.predict(X_train)\n",
    "Y_val_pred = clf.predict(X_val)\n",
    "acc_rfc = round(clf.score(X_train, Y_train) * 100, 2)\n",
    "cm = confusion_matrix(Y_val, Y_val_pred)\n",
    "print(cm)\n",
    "print('Accuracy on Training Set: {:.3f}'.format(accuracy_score(Y_train, Y_train_pred)))\n",
    "print('Accuracy on Validation Set: {:.3f}'.format(accuracy_score(Y_val, Y_val_pred)))\n",
    "print('recall on Validation Set: {:.3f}'.format(recall_score(Y_val, Y_val_pred)))\n",
    "print('precision on Validation Set: {:.3f}'.format(precision_score(Y_val, Y_val_pred)))\n",
    "print('f1 on Validation Set: {:.3f}'.format(f1_score(Y_val, Y_val_pred)))\n",
    "print(\"RandomForestClassifier={}\".format(acc_rfc))"
   ]
  },
  {
   "cell_type": "code",
   "execution_count": 38,
   "metadata": {
    "collapsed": true
   },
   "outputs": [],
   "source": [
    "# clf.fit(train.drop(['Survived'],axis=1), train['Survived'])\n",
    "# Y_val_pred = clf.predict(test)\n",
    "\n",
    "# predictions = pd.DataFrame({\"PassengerId\": p_id,\"Survived\": Y_val_pred})\n",
    "\n",
    "# predictions.to_csv(\"output/submit4_01112019.csv\",index=False)"
   ]
  },
  {
   "cell_type": "code",
   "execution_count": null,
   "metadata": {
    "collapsed": false
   },
   "outputs": [],
   "source": [
    "# #For Kaggle after parameter fixed\n",
    "\n",
    "# clf = RandomForestClassifier(bootstrap=True, class_weight=None, criterion='gini',\n",
    "#             max_depth=25, max_features='auto', max_leaf_nodes=None,\n",
    "#             min_samples_leaf=1, min_samples_split=15,\n",
    "#             min_weight_fraction_leaf=0.0, n_estimators=51, n_jobs=4,\n",
    "#             oob_score=False, random_state=0, verbose=0, warm_start=False)\n",
    "\n",
    "\n",
    "# clf.fit(train.drop(['Survived'],axis=1), train['Survived'])\n",
    "# Y_val_pred = clf.predict(test)\n",
    "# print(clf.score(train.drop(['Survived'],axis=1), train['Survived']))\n"
   ]
  },
  {
   "cell_type": "code",
   "execution_count": null,
   "metadata": {
    "collapsed": false
   },
   "outputs": [],
   "source": [
    "# #for submit\n",
    "# predictions = pd.DataFrame({\n",
    "#         \"PassengerId\": p_id,\n",
    "#         \"Survived\": Y_val_pred,\n",
    "#     })\n",
    "\n",
    "# predictions.to_csv(\"output/submit3_01112019.csv\",index=False)"
   ]
  },
  {
   "cell_type": "code",
   "execution_count": null,
   "metadata": {
    "collapsed": false
   },
   "outputs": [],
   "source": [
    "# Y_train_pred = clf.predict(X_train)\n",
    "# Y_val_pred = clf.predict(X_val)\n",
    "# acc_rfc = round(clf.score(X_train, Y_train) * 100, 2)\n",
    "# cm = confusion_matrix(Y_val, Y_val_pred)\n",
    "# print(cm)\n",
    "# print('Accuracy on Training Set: {:.3f}'.format(accuracy_score(Y_train, Y_train_pred)))\n",
    "# print('Accuracy on Validation Set: {:.3f}'.format(accuracy_score(Y_val, Y_val_pred)))\n",
    "# print('recall on Validation Set: {:.3f}'.format(recall_score(Y_val, Y_val_pred)))\n",
    "# print('precision on Validation Set: {:.3f}'.format(precision_score(Y_val, Y_val_pred)))\n",
    "# print('f1 on Validation Set: {:.3f}'.format(f1_score(Y_val, Y_val_pred)))\n",
    "# print(\"RandomForestClassifier={}\".format(acc_rfc))"
   ]
  },
  {
   "cell_type": "code",
   "execution_count": null,
   "metadata": {
    "collapsed": false
   },
   "outputs": [],
   "source": [
    "# #SVC\n",
    "\n",
    "# params = [\n",
    "#     {'C': [1, 10, 100, 1000], 'kernel': ['rbf'], 'gamma': [0.001, 0.0001]},\n",
    "#     ]\n",
    "\n",
    "# score = 'f1'\n",
    "# clf = GridSearchCV(\n",
    "#     SVC(), # 識別器\n",
    "#     params, # 最適化したいパラメータセット \n",
    "#     cv=5, # 交差検定の回数\n",
    "#     scoring='%s_weighted' % score ) # モデルの評価関数の指定\n",
    "    \n",
    "# clf.fit(X_train, Y_train)\n",
    "\n",
    "# print(clf.grid_scores_)\n",
    "# print(clf.best_params_)\n",
    "# print(clf.best_estimator_)\n",
    "# # # # Support Vector Machines\n",
    "# # svc = SVC(kernel='rbf',C=1000, gamma=0.00001)\n",
    "# svc = clf.best_estimator_\n",
    "# # svc = SVC(C=1000, cache_size=200, class_weight=None, coef0=0.0,\n",
    "# #   decision_function_shape='ovr', degree=3, gamma=0.0001, kernel='rbf',\n",
    "# #   max_iter=-1, probability=False, random_state=None, shrinking=True,\n",
    "# #   tol=0.001, verbose=False)\n",
    "# svc.fit(X_train, Y_train)\n",
    "# Y_train_pred = svc.predict(X_train)\n",
    "# Y_val_pred = svc.predict(X_val)\n",
    "# acc_svc = round(svc.score(X_train, Y_train) * 100, 2)\n",
    "# cm = confusion_matrix(Y_val, Y_val_pred)\n",
    "# print(cm)\n",
    "# print('Accuracy on Training Set: {:.3f}'.format(accuracy_score(Y_train, Y_train_pred)))\n",
    "# print('Accuracy on Validation Set: {:.3f}'.format(accuracy_score(Y_val, Y_val_pred)))\n",
    "# print('recall on Validation Set: {:.3f}'.format(recall_score(Y_val, Y_val_pred)))\n",
    "# print('precision on Validation Set: {:.3f}'.format(precision_score(Y_val, Y_val_pred)))\n",
    "# print('f1 on Validation Set: {:.3f}'.format(f1_score(Y_val, Y_val_pred)))\n",
    "# print(\"SVC={}\".format(acc_svc))\n"
   ]
  },
  {
   "cell_type": "code",
   "execution_count": 55,
   "metadata": {
    "collapsed": false
   },
   "outputs": [
    {
     "name": "stderr",
     "output_type": "stream",
     "text": [
      "/Users/mihoyamamoto/anaconda3/lib/python3.6/site-packages/sklearn/discriminant_analysis.py:387: UserWarning: Variables are collinear.\n",
      "  warnings.warn(\"Variables are collinear.\")\n",
      "/Users/mihoyamamoto/anaconda3/lib/python3.6/site-packages/sklearn/discriminant_analysis.py:695: UserWarning: Variables are collinear\n",
      "  warnings.warn(\"Variables are collinear\")\n",
      "/Users/mihoyamamoto/anaconda3/lib/python3.6/site-packages/sklearn/discriminant_analysis.py:387: UserWarning: Variables are collinear.\n",
      "  warnings.warn(\"Variables are collinear.\")\n",
      "/Users/mihoyamamoto/anaconda3/lib/python3.6/site-packages/sklearn/discriminant_analysis.py:695: UserWarning: Variables are collinear\n",
      "  warnings.warn(\"Variables are collinear\")\n",
      "/Users/mihoyamamoto/anaconda3/lib/python3.6/site-packages/sklearn/discriminant_analysis.py:387: UserWarning: Variables are collinear.\n",
      "  warnings.warn(\"Variables are collinear.\")\n",
      "/Users/mihoyamamoto/anaconda3/lib/python3.6/site-packages/sklearn/discriminant_analysis.py:695: UserWarning: Variables are collinear\n",
      "  warnings.warn(\"Variables are collinear\")\n",
      "/Users/mihoyamamoto/anaconda3/lib/python3.6/site-packages/sklearn/discriminant_analysis.py:387: UserWarning: Variables are collinear.\n",
      "  warnings.warn(\"Variables are collinear.\")\n",
      "/Users/mihoyamamoto/anaconda3/lib/python3.6/site-packages/sklearn/discriminant_analysis.py:695: UserWarning: Variables are collinear\n",
      "  warnings.warn(\"Variables are collinear\")\n",
      "/Users/mihoyamamoto/anaconda3/lib/python3.6/site-packages/sklearn/discriminant_analysis.py:387: UserWarning: Variables are collinear.\n",
      "  warnings.warn(\"Variables are collinear.\")\n",
      "/Users/mihoyamamoto/anaconda3/lib/python3.6/site-packages/sklearn/discriminant_analysis.py:695: UserWarning: Variables are collinear\n",
      "  warnings.warn(\"Variables are collinear\")\n",
      "/Users/mihoyamamoto/anaconda3/lib/python3.6/site-packages/sklearn/discriminant_analysis.py:387: UserWarning: Variables are collinear.\n",
      "  warnings.warn(\"Variables are collinear.\")\n",
      "/Users/mihoyamamoto/anaconda3/lib/python3.6/site-packages/sklearn/discriminant_analysis.py:695: UserWarning: Variables are collinear\n",
      "  warnings.warn(\"Variables are collinear\")\n",
      "/Users/mihoyamamoto/anaconda3/lib/python3.6/site-packages/sklearn/discriminant_analysis.py:387: UserWarning: Variables are collinear.\n",
      "  warnings.warn(\"Variables are collinear.\")\n",
      "/Users/mihoyamamoto/anaconda3/lib/python3.6/site-packages/sklearn/discriminant_analysis.py:695: UserWarning: Variables are collinear\n",
      "  warnings.warn(\"Variables are collinear\")\n",
      "/Users/mihoyamamoto/anaconda3/lib/python3.6/site-packages/sklearn/discriminant_analysis.py:387: UserWarning: Variables are collinear.\n",
      "  warnings.warn(\"Variables are collinear.\")\n",
      "/Users/mihoyamamoto/anaconda3/lib/python3.6/site-packages/sklearn/discriminant_analysis.py:695: UserWarning: Variables are collinear\n",
      "  warnings.warn(\"Variables are collinear\")\n",
      "/Users/mihoyamamoto/anaconda3/lib/python3.6/site-packages/sklearn/discriminant_analysis.py:387: UserWarning: Variables are collinear.\n",
      "  warnings.warn(\"Variables are collinear.\")\n",
      "/Users/mihoyamamoto/anaconda3/lib/python3.6/site-packages/sklearn/discriminant_analysis.py:695: UserWarning: Variables are collinear\n",
      "  warnings.warn(\"Variables are collinear\")\n",
      "/Users/mihoyamamoto/anaconda3/lib/python3.6/site-packages/sklearn/discriminant_analysis.py:387: UserWarning: Variables are collinear.\n",
      "  warnings.warn(\"Variables are collinear.\")\n",
      "/Users/mihoyamamoto/anaconda3/lib/python3.6/site-packages/sklearn/discriminant_analysis.py:695: UserWarning: Variables are collinear\n",
      "  warnings.warn(\"Variables are collinear\")\n"
     ]
    },
    {
     "data": {
      "text/plain": [
       "<matplotlib.axes._subplots.AxesSubplot at 0x11fa12550>"
      ]
     },
     "execution_count": 55,
     "metadata": {},
     "output_type": "execute_result"
    },
    {
     "data": {
      "image/png": "[encoded data removed]",
      "text/plain": [
       "<matplotlib.figure.Figure at 0x11c438400>"
      ]
     },
     "metadata": {},
     "output_type": "display_data"
    }
   ],
   "source": [
    "##Classifier Comparison\n",
    "\n",
    "%matplotlib inline\n",
    "\n",
    "import matplotlib.pyplot as plt \n",
    "import seaborn as sns\n",
    "\n",
    "from sklearn.model_selection import StratifiedShuffleSplit\n",
    "from sklearn.metrics import accuracy_score, log_loss\n",
    "from sklearn.neighbors import KNeighborsClassifier\n",
    "from sklearn.svm import SVC\n",
    "from sklearn.tree import DecisionTreeClassifier\n",
    "from sklearn.ensemble import RandomForestClassifier, AdaBoostClassifier, GradientBoostingClassifier\n",
    "from sklearn.naive_bayes import GaussianNB\n",
    "from sklearn.discriminant_analysis import LinearDiscriminantAnalysis, QuadraticDiscriminantAnalysis\n",
    "from sklearn.linear_model import LogisticRegression\n",
    "\n",
    "classifiers = [\n",
    "    KNeighborsClassifier(3),\n",
    "    SVC(probability=True),\n",
    "    DecisionTreeClassifier(),\n",
    "    RandomForestClassifier(),\n",
    "\tAdaBoostClassifier(),\n",
    "    GradientBoostingClassifier(),\n",
    "    GaussianNB(),\n",
    "    LinearDiscriminantAnalysis(),\n",
    "    QuadraticDiscriminantAnalysis(),\n",
    "    LogisticRegression()]\n",
    "\n",
    "log_cols = [\"Classifier\", \"Accuracy\"]\n",
    "log \t = pd.DataFrame(columns=log_cols)\n",
    "\n",
    "sss = StratifiedShuffleSplit(n_splits=10, test_size=0.1, random_state=0)\n",
    "\n",
    "X = train.iloc[0::, 1::]\n",
    "y = train.iloc[0::, 0]\n",
    "\n",
    "acc_dict = {}\n",
    "\n",
    "#svc.fit(X_train, Y_train)\n",
    "# Y_train_pred = svc.predict(X_train)\n",
    "# Y_val_pred = svc.predict(X_val)\n",
    "\n",
    "\n",
    "#cross validate each model\n",
    "for train_index, test_index in sss.split(X, y):\n",
    "\tX_train, X_test = X.iloc[train_index], X.iloc[test_index]\n",
    "\ty_train, y_test = y[train_index], y[test_index]\n",
    "    \n",
    "\tfor clf in classifiers:\n",
    "\t\tname = clf.__class__.__name__\n",
    "\t\tclf.fit(X_train, y_train)\n",
    "\t\ttrain_predictions = clf.predict(X_test)\n",
    "\t\tacc = accuracy_score(y_test, train_predictions)\n",
    "\t\tif name in acc_dict:\n",
    "\t\t\tacc_dict[name] += acc\n",
    "\t\telse:\n",
    "\t\t\tacc_dict[name] = acc\n",
    "\n",
    "for clf in acc_dict:\n",
    "\tacc_dict[clf] = acc_dict[clf] / 10.0\n",
    "\tlog_entry = pd.DataFrame([[clf, acc_dict[clf]]], columns=log_cols)\n",
    "\tlog = log.append(log_entry)\n",
    "\n",
    "plt.xlabel('Accuracy')\n",
    "plt.title('Classifier Accuracy')\n",
    "\n",
    "sns.set_color_codes(\"muted\")\n",
    "sns.barplot(x='Accuracy', y='Classifier', data=log, color=\"b\")"
   ]
  },
  {
   "cell_type": "markdown",
   "metadata": {},
   "source": [
    "Gradient Boosting Classifier looks better than other models without parameter tuning"
   ]
  },
  {
   "cell_type": "markdown",
   "metadata": {},
   "source": [
    "### model comparison using cross validation"
   ]
  },
  {
   "cell_type": "code",
   "execution_count": 34,
   "metadata": {
    "collapsed": false
   },
   "outputs": [
    {
     "name": "stderr",
     "output_type": "stream",
     "text": [
      "/Users/mihoyamamoto/anaconda3/lib/python3.6/site-packages/sklearn/discriminant_analysis.py:387: UserWarning: Variables are collinear.\n",
      "  warnings.warn(\"Variables are collinear.\")\n",
      "/Users/mihoyamamoto/anaconda3/lib/python3.6/site-packages/sklearn/discriminant_analysis.py:387: UserWarning: Variables are collinear.\n",
      "  warnings.warn(\"Variables are collinear.\")\n",
      "/Users/mihoyamamoto/anaconda3/lib/python3.6/site-packages/sklearn/discriminant_analysis.py:387: UserWarning: Variables are collinear.\n",
      "  warnings.warn(\"Variables are collinear.\")\n",
      "/Users/mihoyamamoto/anaconda3/lib/python3.6/site-packages/sklearn/discriminant_analysis.py:387: UserWarning: Variables are collinear.\n",
      "  warnings.warn(\"Variables are collinear.\")\n",
      "/Users/mihoyamamoto/anaconda3/lib/python3.6/site-packages/sklearn/discriminant_analysis.py:387: UserWarning: Variables are collinear.\n",
      "  warnings.warn(\"Variables are collinear.\")\n",
      "/Users/mihoyamamoto/anaconda3/lib/python3.6/site-packages/sklearn/discriminant_analysis.py:387: UserWarning: Variables are collinear.\n",
      "  warnings.warn(\"Variables are collinear.\")\n",
      "/Users/mihoyamamoto/anaconda3/lib/python3.6/site-packages/sklearn/discriminant_analysis.py:387: UserWarning: Variables are collinear.\n",
      "  warnings.warn(\"Variables are collinear.\")\n",
      "/Users/mihoyamamoto/anaconda3/lib/python3.6/site-packages/sklearn/discriminant_analysis.py:387: UserWarning: Variables are collinear.\n",
      "  warnings.warn(\"Variables are collinear.\")\n",
      "/Users/mihoyamamoto/anaconda3/lib/python3.6/site-packages/sklearn/discriminant_analysis.py:387: UserWarning: Variables are collinear.\n",
      "  warnings.warn(\"Variables are collinear.\")\n",
      "/Users/mihoyamamoto/anaconda3/lib/python3.6/site-packages/sklearn/discriminant_analysis.py:387: UserWarning: Variables are collinear.\n",
      "  warnings.warn(\"Variables are collinear.\")\n",
      "/Users/mihoyamamoto/anaconda3/lib/python3.6/site-packages/sklearn/discriminant_analysis.py:695: UserWarning: Variables are collinear\n",
      "  warnings.warn(\"Variables are collinear\")\n",
      "/Users/mihoyamamoto/anaconda3/lib/python3.6/site-packages/sklearn/discriminant_analysis.py:695: UserWarning: Variables are collinear\n",
      "  warnings.warn(\"Variables are collinear\")\n",
      "/Users/mihoyamamoto/anaconda3/lib/python3.6/site-packages/sklearn/discriminant_analysis.py:695: UserWarning: Variables are collinear\n",
      "  warnings.warn(\"Variables are collinear\")\n",
      "/Users/mihoyamamoto/anaconda3/lib/python3.6/site-packages/sklearn/discriminant_analysis.py:695: UserWarning: Variables are collinear\n",
      "  warnings.warn(\"Variables are collinear\")\n",
      "/Users/mihoyamamoto/anaconda3/lib/python3.6/site-packages/sklearn/discriminant_analysis.py:695: UserWarning: Variables are collinear\n",
      "  warnings.warn(\"Variables are collinear\")\n",
      "/Users/mihoyamamoto/anaconda3/lib/python3.6/site-packages/sklearn/discriminant_analysis.py:695: UserWarning: Variables are collinear\n",
      "  warnings.warn(\"Variables are collinear\")\n",
      "/Users/mihoyamamoto/anaconda3/lib/python3.6/site-packages/sklearn/discriminant_analysis.py:695: UserWarning: Variables are collinear\n",
      "  warnings.warn(\"Variables are collinear\")\n",
      "/Users/mihoyamamoto/anaconda3/lib/python3.6/site-packages/sklearn/discriminant_analysis.py:695: UserWarning: Variables are collinear\n",
      "  warnings.warn(\"Variables are collinear\")\n",
      "/Users/mihoyamamoto/anaconda3/lib/python3.6/site-packages/sklearn/discriminant_analysis.py:695: UserWarning: Variables are collinear\n",
      "  warnings.warn(\"Variables are collinear\")\n",
      "/Users/mihoyamamoto/anaconda3/lib/python3.6/site-packages/sklearn/discriminant_analysis.py:695: UserWarning: Variables are collinear\n",
      "  warnings.warn(\"Variables are collinear\")\n"
     ]
    },
    {
     "data": {
      "text/plain": [
       "<matplotlib.axes._subplots.AxesSubplot at 0x11129bf28>"
      ]
     },
     "execution_count": 34,
     "metadata": {},
     "output_type": "execute_result"
    },
    {
     "data": {
      "image/png": "[encoded data removed]",
      "text/plain": [
       "<matplotlib.figure.Figure at 0x11127de48>"
      ]
     },
     "metadata": {},
     "output_type": "display_data"
    }
   ],
   "source": [
    "##Classifier Comparison\n",
    "%matplotlib inline\n",
    "\n",
    "import matplotlib.pyplot as plt \n",
    "import seaborn as sns\n",
    "\n",
    "from sklearn.model_selection import StratifiedShuffleSplit\n",
    "from sklearn.metrics import accuracy_score, log_loss\n",
    "from sklearn.neighbors import KNeighborsClassifier\n",
    "from sklearn.svm import SVC\n",
    "from sklearn.tree import DecisionTreeClassifier\n",
    "from sklearn.ensemble import RandomForestClassifier, AdaBoostClassifier, GradientBoostingClassifier\n",
    "from sklearn.naive_bayes import GaussianNB\n",
    "from sklearn.discriminant_analysis import LinearDiscriminantAnalysis, QuadraticDiscriminantAnalysis\n",
    "from sklearn.linear_model import LogisticRegression\n",
    "\n",
    "classifiers = [\n",
    "    KNeighborsClassifier(3),\n",
    "    SVC(probability=True),\n",
    "    DecisionTreeClassifier(),\n",
    "    RandomForestClassifier(),\n",
    "    AdaBoostClassifier(),\n",
    "    GradientBoostingClassifier(),\n",
    "    GaussianNB(),\n",
    "    LinearDiscriminantAnalysis(),\n",
    "    QuadraticDiscriminantAnalysis(),\n",
    "    LogisticRegression()]\n",
    "\n",
    "log_cols = [\"Classifier\", \"Accuracy\"]\n",
    "log = pd.DataFrame(columns=log_cols)\n",
    "\n",
    "##Cross validation to test models instead of split\n",
    "from sklearn.cross_validation import cross_val_score\n",
    "\n",
    "X = train.drop(['Survived'],axis=1)\n",
    "y= train['Survived']\n",
    "acc_dict = {}\n",
    "\n",
    "for clf in classifiers:\n",
    "    name = clf.__class__.__name__\n",
    "    scores = cross_val_score(clf, X, y, cv=10, scoring='accuracy')\n",
    "    score_mean = scores.mean()\n",
    "    if name in acc_dict:\n",
    "        acc_dict[name] += score_mean\n",
    "    else:\n",
    "        acc_dict[name] = score_mean\n",
    "    \n",
    "for clf in acc_dict:\n",
    "    log_entry = pd.DataFrame([[clf, acc_dict[clf]]], columns=log_cols)\n",
    "    log = log.append(log_entry)\n",
    "\n",
    "    \n",
    "plt.xlabel('Accuracy')\n",
    "plt.title('Classifier Accuracy')\n",
    "\n",
    "sns.set_color_codes(\"muted\")\n",
    "sns.barplot(x='Accuracy', y='Classifier', data=log, color=\"b\")\n",
    "\n",
    "##Cross validation without sklearn cross_validation\n",
    "# sss = StratifiedShuffleSplit(n_splits=10, test_size=0.1, random_state=0)\n",
    "\n",
    "# X = train.iloc[0::, 1::]\n",
    "# y = train.iloc[0::, 0]\n",
    "\n",
    "# acc_dict = {}\n",
    "\n",
    "# #cross validate each model\n",
    "# for train_index, test_index in sss.split(X, y):\n",
    "# \tX_train, X_test = X.iloc[train_index], X.iloc[test_index]\n",
    "# \ty_train, y_test = y[train_index], y[test_index]\n",
    "    \n",
    "# \tfor clf in classifiers:\n",
    "# \t\tname = clf.__class__.__name__\n",
    "# \t\tclf.fit(X_train, y_train)\n",
    "# \t\ttrain_predictions = clf.predict(X_test)\n",
    "# \t\tacc = accuracy_score(y_test, train_predictions)\n",
    "# \t\tif name in acc_dict:\n",
    "# \t\t\tacc_dict[name] += acc\n",
    "# \t\telse:\n",
    "# \t\t\tacc_dict[name] = acc\n",
    "\n",
    "# for clf in acc_dict:\n",
    "# \tacc_dict[clf] = acc_dict[clf] / 10.0\n",
    "# \tlog_entry = pd.DataFrame([[clf, acc_dict[clf]]], columns=log_cols)\n",
    "# \tlog = log.append(log_entry)"
   ]
  },
  {
   "cell_type": "code",
   "execution_count": null,
   "metadata": {
    "collapsed": true
   },
   "outputs": [],
   "source": [
    "##Cross validation to test models instead of split\n",
    "from sklearn.cross_validation import cross_val_score\n",
    "\n",
    "X = train.drop(['Survived'],axis=1)\n",
    "Y= train['Survived']\n",
    "\n",
    "clf = RandomForestClassifier()\n",
    "scores = cross_val_score(clf, X, Y, cv=10, scoring='accuracy')\n",
    "\n",
    "print(scores)\n",
    "print(scores.mean())"
   ]
  },
  {
   "cell_type": "markdown",
   "metadata": {},
   "source": [
    "## Grid search CV"
   ]
  },
  {
   "cell_type": "code",
   "execution_count": null,
   "metadata": {
    "collapsed": true
   },
   "outputs": [],
   "source": [
    "# #Search for an optimal value of k for KNN\n",
    "# k_range = range(1,31)\n",
    "# k_scores = []\n",
    "# for k in k_range:\n",
    "#     knn=KNeighborsClassifier(n_neghbors=k)\n",
    "#     scores = cross_val_score(knn, X, Y, cv=10, scoring='accuracy')\n",
    "#     k_scores.append(scores.mean())\n",
    "# print k_scores\n",
    "\n",
    "# #plot the value of k for KNN (x-axis) versus the cross-validated accuracy (y-axis)\n",
    "# plt.plot(k_range, k_scores)\n",
    "# plt.xlabel(\"Value of k for KNN\")\n",
    "# plt.label('Cross-Validated Accuracy')"
   ]
  },
  {
   "cell_type": "code",
   "execution_count": null,
   "metadata": {
    "collapsed": true
   },
   "outputs": [],
   "source": [
    "# #above rewrote with GridSearchCV\n",
    "# k_range = range(1,31)\n",
    "# param_grid = dict(n_beighbors=k_range) #param should be searched with grid\n",
    "\n",
    "# grid = GridSearchCV(knn, param_grid, cv=10, scoring='accuracy')\n",
    "# grid.fit(X,Y)\n",
    "\n",
    "# grid.grid_scores_ #view complete result tested with gridsearch\n",
    "\n",
    "# #to call specific value\n",
    "# print grid.grid_scores_[0].parameters\n",
    "# print grid.grid_scores_[0].cv_validation_scores\n",
    "# print grid.grid_scores_[0].mean_validation_score\n",
    "\n",
    "# #create a list of the mean scores only\n",
    "# grid_mean_scores = [result.mean_validation_score for result in grid.grid_scores_]\n",
    "# print(grid_mean_scores)\n",
    "\n",
    "# #plot the results\n",
    "# plt.plot(k_range, grid_mean_scores)\n",
    "# plt.xlabel(\"Value of k for KNN\")\n",
    "# plt.label('Cross-Validated Accuracy')\n",
    "\n",
    "# #examine the best model\n",
    "# print(grid.best_scores_)\n",
    "# print(grid.best_params_)\n",
    "# print(grid.best_estimator_)\n",
    "\n",
    "##if the gridsearch takes long, try RadamizedSearchCV which will save time"
   ]
  },
  {
   "cell_type": "markdown",
   "metadata": {},
   "source": [
    "## Evaluate the model checking recall vs Percision"
   ]
  },
  {
   "cell_type": "code",
   "execution_count": null,
   "metadata": {
    "collapsed": true
   },
   "outputs": [],
   "source": [
    "#plotting ROC curve\n",
    "y_pred_prob = clf.predicted_proba(X_test) #X_test = X_val\n",
    "fpr, tpr, thresholds = metrics,roc_curve(y_test, y_pred_prob) #y_test=y_val\n",
    "plt.plot(fpr, tpr)\n",
    "plt.xlim([0.0, 1.0])\n",
    "plt.ylim([0.0, 1.0])\n",
    "plt.title(\"ROX curve\")\n",
    "plt.xlabel(\"Percision (1-Specificity)\")\n",
    "plt.ylabel(\"Recall (Sensitivity)\")\n",
    "plt.grid(True)"
   ]
  },
  {
   "cell_type": "code",
   "execution_count": null,
   "metadata": {
    "collapsed": true
   },
   "outputs": [],
   "source": [
    "#Get the point of thresholds\n",
    "def evaluate_threshold(threshold):\n",
    "    print 'Sensitivity:', tpr[thresholds > threshold][-1]\n",
    "    print 'Specificity:', 1-fqr[thresholds > threshold][-1]"
   ]
  },
  {
   "cell_type": "code",
   "execution_count": null,
   "metadata": {
    "collapsed": true
   },
   "outputs": [],
   "source": [
    "#Area under the curve AUC\n",
    "print metrics.roc_auc_score(y_test, y_pred_prob)\n",
    "\n",
    "#AUC is useful for cross val scoring to find threshold\n",
    "cross_val_score(clf, X, y, cv=10, scoring='roc_auc').mean()"
   ]
  },
  {
   "cell_type": "markdown",
   "metadata": {},
   "source": [
    "AUC is summary of classifier performance"
   ]
  },
  {
   "cell_type": "code",
   "execution_count": null,
   "metadata": {
    "collapsed": true
   },
   "outputs": [],
   "source": [
    "##simpler code to look at recall precision\n",
    "# from sklearn.ensemble import GradientBoostingClassifier\n",
    "# Grad=GradientBoostingClassifier()\n",
    "# n_estimators = [15,20,25,30,35]\n",
    "# max_features = [0.001, 0.05, 0.1, 0.2,0.4]\n",
    "# max_depth = [1,2,3,5,7,9,11]\n",
    "# gsg = GridSearchCV(Grad, {'n_estimators': n_estimators, 'max_features': max_features, 'max_depth':max_depth}, cv=5)\n",
    "# gsg.fit(X, y)\n",
    "# gsg.best_params_\n",
    "# ypred=gsg.best_estimator_.predict(X)\n",
    "# print classification_report(y, ypred)\n",
    "# pd.DataFrame(confusion_matrix(y, ypred, labels=[0, 1]))\n",
    "\n",
    "##view the feature importances for this model to see which factors contribute the most to survival\n",
    "#pd.DataFrame(gsf.best_estimator_.feature_importances_, index=X.columns, columns=[\"Feature Importance\"]).sort(\"Feature Importance\", ascending=False)"
   ]
  },
  {
   "cell_type": "code",
   "execution_count": null,
   "metadata": {
    "collapsed": true
   },
   "outputs": [],
   "source": []
  }
 ],
 "metadata": {
  "kernelspec": {
   "display_name": "Python 3",
   "language": "python",
   "name": "python3"
  },
  "language_info": {
   "codemirror_mode": {
    "name": "ipython",
    "version": 3
   },
   "file_extension": ".py",
   "mimetype": "text/x-python",
   "name": "python",
   "nbconvert_exporter": "python",
   "pygments_lexer": "ipython3",
   "version": "3.6.0"
  }
 },
 "nbformat": 4,
 "nbformat_minor": 2
}
